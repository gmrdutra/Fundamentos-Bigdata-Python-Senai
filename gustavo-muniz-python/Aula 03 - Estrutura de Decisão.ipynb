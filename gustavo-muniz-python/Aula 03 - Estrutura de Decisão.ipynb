{
 "cells": [
  {
   "cell_type": "markdown",
   "metadata": {},
   "source": [
    "## Estrutura de Decisão IF\n",
    "\n",
    "## Operadores Lógicos \n",
    "\n",
    "    # AND - Responde True (Verdadeiro) quando todos as condições forem verdadeiras.\n",
    "    # OR  - Responde True (Verdadeiro) quando apenas 1 condição é verdade.\n",
    "    # NOT - Inverte o resultado do teste. True -> False e False -> True "
   ]
  },
  {
   "cell_type": "markdown",
   "metadata": {},
   "source": [
    "### Exercício 01 \n",
    "\n",
    "Crie uma variável chamada \"idade\" e atribua um valor inteiro a ela.\n",
    "Verifique se a idade é maior ou igual a 18 e imprima \"Maior de idade\" ou \"Menor de\n",
    "idade\" de acordo com a condição."
   ]
  },
  {
   "cell_type": "code",
   "execution_count": 2,
   "metadata": {},
   "outputs": [
    {
     "name": "stdout",
     "output_type": "stream",
     "text": [
      "Maior de Idade !\n"
     ]
    }
   ],
   "source": [
    "idade = int(input(\"Digite sua idade\"))\n",
    "\n",
    "if idade >= 18 :\n",
    "    print(\"Maior de Idade !\")\n",
    "else :\n",
    "    print(\"Menor de Idade !\")\n"
   ]
  },
  {
   "cell_type": "markdown",
   "metadata": {},
   "source": [
    "### Exercício 02 \n",
    "\n",
    "Crie uma variável chamada \"número\" e atribua um valor inteiro a ela. Verifique se o número é positivo, negativo ou zero e imprima a mensagem correspondente."
   ]
  },
  {
   "cell_type": "code",
   "execution_count": null,
   "metadata": {},
   "outputs": [
    {
     "name": "stdout",
     "output_type": "stream",
     "text": [
      "Número negativo !\n"
     ]
    }
   ],
   "source": [
    "numero = int(input(\"Digite seu número\"))\n",
    "\n",
    "if numero > 0 :\n",
    "    print(\"Número Positivo !\")\n",
    "elif numero < 0 :\n",
    "    print(\"Número negativo !\")\n",
    "else:\n",
    "    print(\"Número igual a ZERO\")"
   ]
  },
  {
   "cell_type": "markdown",
   "metadata": {},
   "source": [
    "### Exercício 03 \n",
    "\n",
    "Crie duas variáveis, \"nota1\" e \"nota2\", e atribua valores numéricos a elas. Verifique se a média das notas é maior ou gual a 7 e imprima \"Aprovado\" ou \"Reprovado\" de acordo com a condição."
   ]
  },
  {
   "cell_type": "code",
   "execution_count": 3,
   "metadata": {},
   "outputs": [
    {
     "name": "stdout",
     "output_type": "stream",
     "text": [
      "APROVADO !\n"
     ]
    }
   ],
   "source": [
    "nota1 = float(input(\"Insira a primeira nota :\"))\n",
    "nota2 = float(input(\"Insira a segunda nota :\"))\n",
    "\n",
    "media = (nota1 + nota2)/2\n",
    "\n",
    "if media >= 7 :\n",
    "    print (\"APROVADO !\")\n",
    "else :\n",
    "    print (\"REPROVADO !\")"
   ]
  },
  {
   "cell_type": "markdown",
   "metadata": {},
   "source": [
    "### Exercício 04 \n",
    "\n",
    " Crie uma variável chamada \"idade\" e atribua um valor inteiro a ela. Verifique se a idade está dentro do intervalo de 18 a 30 (inclusive) e imprima a mensagem \"Idade válida\" ou \"Idade inválida\" de acordo com a condição."
   ]
  },
  {
   "cell_type": "code",
   "execution_count": 6,
   "metadata": {},
   "outputs": [
    {
     "name": "stdout",
     "output_type": "stream",
     "text": [
      "Idade Válida\n"
     ]
    }
   ],
   "source": [
    "idade = int(input(\"Insira sua idade :\"))\n",
    "\n",
    "if idade < 18 or idade > 30 :\n",
    "    print(\"Idade Inválida\")\n",
    "else :\n",
    "    print(\"Idade Válida\")"
   ]
  },
  {
   "cell_type": "markdown",
   "metadata": {},
   "source": [
    "### Exercício 05 \n",
    "\n",
    "Crie uma variável chamada \"numero\" e atribua um valor inteiro a ela. Verifique se o número é par ou ímpar e imprima a mensagem correspondente."
   ]
  },
  {
   "cell_type": "code",
   "execution_count": null,
   "metadata": {},
   "outputs": [
    {
     "name": "stdout",
     "output_type": "stream",
     "text": [
      "O número 27 é Impar\n"
     ]
    }
   ],
   "source": [
    "numero = int(input('Insira o seu número :'))\n",
    "\n",
    "sobra = numero%2\n",
    "\n",
    "if sobra == 0 :\n",
    "    print(f\"O número {numero} é Par\")\n",
    "else:\n",
    "    print(f\"O número {numero} é Impar\")"
   ]
  },
  {
   "cell_type": "markdown",
   "metadata": {},
   "source": [
    "### Exercício 06 \n",
    "\n",
    "Crie uma variável chamada \"horario\" e atribua um valor inteiro representando a hora do dia (em formato 24 horas). Verifique se o horário está dentro do período da manhã (das 6h às 12h), da tarde (das 12h às 18h) ou da noite (das 18h às 23h) e imprima a mensagem correspondente."
   ]
  },
  {
   "cell_type": "code",
   "execution_count": null,
   "metadata": {},
   "outputs": [
    {
     "name": "stdout",
     "output_type": "stream",
     "text": [
      "Período da Noite !\n"
     ]
    }
   ],
   "source": [
    "horario = int(input(\"Insira o horário :\"))\n",
    "\n",
    "if horario <12 :\n",
    "    print (\"Período da Manhã !\")\n",
    "elif horario >18 :\n",
    "    print (\"Período da Noite !\")\n",
    "else :\n",
    "    print (\"Período da Tarde !\")"
   ]
  },
  {
   "cell_type": "markdown",
   "metadata": {},
   "source": [
    "### Exercício 07 \n",
    "\n",
    "Crie uma variável chamada \"peso\" e atribua um valor numérico a ela. Verifique se o peso está dentro do intervalo de 50 a 100 (inclusive) e imprima a mensagem \"Peso válido\" ou \"Peso inválido\" de acordo com a condição."
   ]
  },
  {
   "cell_type": "code",
   "execution_count": null,
   "metadata": {},
   "outputs": [
    {
     "name": "stdout",
     "output_type": "stream",
     "text": [
      "Peso Inválido !\n"
     ]
    }
   ],
   "source": [
    "peso = float(input(\"Insira seu peso :\"))\n",
    "\n",
    "if peso <= 50 or peso > 100 :\n",
    "    print(\"Peso Inválido !\")\n",
    "else:\n",
    "    print(\"Peso Válido !\")"
   ]
  },
  {
   "cell_type": "markdown",
   "metadata": {},
   "source": [
    "### Exercício 08 \n",
    "\n",
    "Crie uma variável chamada \"numero\" e atribua um valor inteiro a ela. Verifique se o número é múltiplo de 3 e de 5 ao mesmo tempo e imprima a mensagem correspondente."
   ]
  },
  {
   "cell_type": "code",
   "execution_count": null,
   "metadata": {},
   "outputs": [
    {
     "name": "stdout",
     "output_type": "stream",
     "text": [
      " O número escolhido é multiplo de 3 e 5 !\n"
     ]
    }
   ],
   "source": [
    "numero = int(input(\"Insira seu número inteiro :\"))\n",
    "\n",
    "tres = numero % 3\n",
    "cinco = numero % 5\n",
    "\n",
    "total = tres + cinco\n",
    "\n",
    "if total == 0:\n",
    "    print(\" O número escolhido é multiplo de 3 e 5 !\" )\n",
    "else :\n",
    "    print(\" O número escolhido não é multiplo de 3 e 5 !\")"
   ]
  },
  {
   "cell_type": "markdown",
   "metadata": {},
   "source": [
    "### Exercício 09 \n",
    "\n",
    "Crie uma variável chamada \"ano\" e atribua um valor inteiro representando um ano. Verifique se o ano é bissexto (divisível por 4, mas não por 100, exceto se for divisível por 400) e imprima a mensagem correspondente."
   ]
  },
  {
   "cell_type": "code",
   "execution_count": null,
   "metadata": {},
   "outputs": [
    {
     "name": "stdout",
     "output_type": "stream",
     "text": [
      "O ano não é Bissexto !\n"
     ]
    }
   ],
   "source": [
    "ano = int(input(\"Insira o ano :\"))\n",
    "\n",
    "quatro = ano % 4\n",
    "cem = ano % 100\n",
    "quatrocentos = ano % 400\n",
    "\n",
    "if  quatro == 0 and cem ==0 and quatrocentos == 0 :\n",
    "    print(\"O ano é Bissexto !\")\n",
    "elif quatro == 0 and cem != 0 :\n",
    "    print(\"O ano é Bissexto !\")\n",
    "else :\n",
    "    print (\"O ano não é Bissexto !\")"
   ]
  },
  {
   "cell_type": "markdown",
   "metadata": {},
   "source": [
    "### Exercício 10 \n",
    "\n",
    "Crie uma variável chamada \"salario\" e atribua um valor numérico a ela. Verifique se o salário é maior do que 1000 e menor do que 2000 ao mesmo tempo e imprima a mensagem correspondente."
   ]
  },
  {
   "cell_type": "code",
   "execution_count": null,
   "metadata": {},
   "outputs": [
    {
     "name": "stdout",
     "output_type": "stream",
     "text": [
      "Salário não é maior que 1.000 e menor que 2.000 ao mesmo tempo\n"
     ]
    }
   ],
   "source": [
    "salario = float(input(\"Insira seu salário:\"))\n",
    "\n",
    "if salario > 1000 and salario < 2000 :\n",
    "    print (\"Salário é maior que 1.000 e menor que 2.000 ao mesmo tempo\")\n",
    "else :\n",
    "    print(\"Salário não é maior que 1.000 e menor que 2.000 ao mesmo tempo\")"
   ]
  },
  {
   "cell_type": "markdown",
   "metadata": {},
   "source": [
    "### Exercício 11 \n",
    "\n",
    "Faça um Programa que peça dois números e imprima o maior deles."
   ]
  },
  {
   "cell_type": "code",
   "execution_count": null,
   "metadata": {},
   "outputs": [
    {
     "name": "stdout",
     "output_type": "stream",
     "text": [
      "O maior número é: 30\n"
     ]
    }
   ],
   "source": [
    "n1 = int(input(\"Insira o primeiro número :\"))\n",
    "n2 = int(input(\"Insira o segundo número :\"))\n",
    "\n",
    "if n1 > n2:\n",
    "  maior = n1\n",
    "else:\n",
    "  maior = n2\n",
    "\n",
    "print(\"O maior número é:\", maior)"
   ]
  },
  {
   "cell_type": "markdown",
   "metadata": {},
   "source": [
    "### Exercício 12 \n",
    "\n",
    "Faça um Programa que peça um valor e mostre na tela se o valor é positivo ou negativo."
   ]
  },
  {
   "cell_type": "code",
   "execution_count": null,
   "metadata": {},
   "outputs": [
    {
     "name": "stdout",
     "output_type": "stream",
     "text": [
      "Negativo !\n"
     ]
    }
   ],
   "source": [
    "v1 = float(input(\"Insira um número :\"))\n",
    "\n",
    "if v1 > 0 :\n",
    "    print(\"Posotivo !\")\n",
    "else :\n",
    "    print(\"Negativo !\")"
   ]
  },
  {
   "cell_type": "markdown",
   "metadata": {},
   "source": [
    "### Exercício 13 \n",
    "\n",
    "Faça um Programa que verifique se uma letra digitada é \"F\" ou \"M\". Conforme a letra escrever: F - Feminino, M - Masculino, Sexo Inválido.##"
   ]
  },
  {
   "cell_type": "code",
   "execution_count": null,
   "metadata": {},
   "outputs": [
    {
     "name": "stdout",
     "output_type": "stream",
     "text": [
      "A Letra inserida dever ser F ou M\n"
     ]
    }
   ],
   "source": [
    "letra = str(input(\" Insira F ou M\"))\n",
    "\n",
    "if letra == \"F\" :\n",
    "    print(\"F - Feminino\")\n",
    "elif letra == \"M\" :\n",
    "    print (\"M - Masculino\")\n",
    "else :\n",
    "    print(\"A Letra inserida dever ser F ou M\")"
   ]
  },
  {
   "cell_type": "markdown",
   "metadata": {},
   "source": [
    "### Exercício 14 - Faça um Programa que verifique se uma letra digitada é vogal ou consoante."
   ]
  },
  {
   "cell_type": "code",
   "execution_count": null,
   "metadata": {},
   "outputs": [
    {
     "name": "stdout",
     "output_type": "stream",
     "text": [
      "A Letra E é uma vogal !\n"
     ]
    }
   ],
   "source": [
    "letra = str(input(\"Insira uma letra :\"))\n",
    "letra = letra.lower()\n",
    "maiscula = letra.upper ()\n",
    "\n",
    "vogais = [\"a\", \"e\", \"i\", \"o\", \"u\"]\n",
    "\n",
    "if letra in vogais :\n",
    "    print(f\"A Letra {maiscula} é uma vogal !\")\n",
    "else :\n",
    "    print(f\"A Letra {maiscula} é uma consoante !\")"
   ]
  },
  {
   "cell_type": "markdown",
   "metadata": {},
   "source": [
    "### Exercício 15 - Faça um programa para a leitura de duas notas parciais de um aluno. O programa deve calcular a média alcançada por aluno e apresentar:\n",
    "    A mensagem \"Aprovado\", se a média alcançada for maior ou igual a sete;\n",
    "    A mensagem \"Reprovado\", se a média for menor do que sete;\n",
    "    A mensagem \"Aprovado com Distinção\", se a média for igual a dez."
   ]
  },
  {
   "cell_type": "code",
   "execution_count": null,
   "metadata": {},
   "outputs": [
    {
     "name": "stdout",
     "output_type": "stream",
     "text": [
      "Reprovado !\n"
     ]
    }
   ],
   "source": [
    "n1 = float(input(\"Insira a primeira nota :\"))\n",
    "n2 = float(input(\"Insira a primeira nota :\"))\n",
    "\n",
    "m = (n1 + n2)/2\n",
    "\n",
    "if m == 10:\n",
    "    print(\"Aprovado com Distinção !\")\n",
    "elif m >=7:\n",
    "    print(\"Aprovado !\")\n",
    "else:\n",
    "    print(\"Reprovado !\")\n"
   ]
  },
  {
   "cell_type": "markdown",
   "metadata": {},
   "source": [
    "### Exercício 16 - Faça um Programa que leia três números e mostre o maior deles."
   ]
  },
  {
   "cell_type": "code",
   "execution_count": 17,
   "metadata": {},
   "outputs": [
    {
     "name": "stdout",
     "output_type": "stream",
     "text": [
      "O maior número é 10.0\n"
     ]
    }
   ],
   "source": [
    "n1 = float(input(\"Insira o primeiro número: \"))\n",
    "n2 = float(input(\"Insira o segundo número: \"))\n",
    "n3 = float(input(\"Insira o terceiro número: \"))\n",
    "\n",
    "maior = n1\n",
    "\n",
    "if n2 > maior:\n",
    "  maior = n2\n",
    "elif n3 > maior:\n",
    "  maior = n3\n",
    "\n",
    "print(\"O maior número é\",maior)\n"
   ]
  },
  {
   "cell_type": "markdown",
   "metadata": {},
   "source": [
    "### Exercício 17 - Faça um Programa que leia três números e mostre o maior e o menor deles."
   ]
  },
  {
   "cell_type": "code",
   "execution_count": 28,
   "metadata": {},
   "outputs": [
    {
     "name": "stdout",
     "output_type": "stream",
     "text": [
      "O maior número é: 9.0\n",
      "O menor número é: 4.0\n"
     ]
    }
   ],
   "source": [
    "n1 = float(input(\"Insira o primeiro número: \"))\n",
    "n2 = float(input(\"Insira o segundo número: \"))\n",
    "n3 = float(input(\"Insira o terceiro número: \"))\n",
    "\n",
    "maior = n1\n",
    "menor = n1\n",
    "\n",
    "if n2 > maior:\n",
    "    maior = n2\n",
    "elif n2 < menor:\n",
    "    menor = n2\n",
    "\n",
    "if n3 > maior:\n",
    "    maior = n3\n",
    "elif n3 < menor:\n",
    "    menor = n3\n",
    "\n",
    "print(\"O maior número é:\", maior)\n",
    "print(\"O menor número é:\", menor)\n"
   ]
  },
  {
   "cell_type": "markdown",
   "metadata": {},
   "source": [
    "### Exercício 18 - Faça um programa que pergunte o preço de três produtos e informe qual produto você deve comprar, sabendo que a decisão é sempre pelo mais barato."
   ]
  },
  {
   "cell_type": "code",
   "execution_count": 4,
   "metadata": {},
   "outputs": [
    {
     "name": "stdout",
     "output_type": "stream",
     "text": [
      " O produto mais barato custa R$ 4.0 !\n"
     ]
    }
   ],
   "source": [
    "p1 = float(input(\"Entre o preço do primeiro produto :\"))\n",
    "p2 = float(input(\"Entre o preço do segundo produto :\"))\n",
    "p3 = float(input(\"Entre o preço do terceiro produto :\"))\n",
    "\n",
    "barato = p1\n",
    "\n",
    "if p2 > p1:\n",
    "    barato = p2\n",
    "\n",
    "if p2 >p3 :\n",
    "    barato = p3\n",
    "\n",
    "print(f\" O produto mais barato custa R$ {barato} !\")"
   ]
  },
  {
   "cell_type": "markdown",
   "metadata": {},
   "source": [
    "### Exercício 19 - Faça um Programa que leia três números e mostre-os em ordem decrescente."
   ]
  },
  {
   "cell_type": "code",
   "execution_count": 21,
   "metadata": {},
   "outputs": [
    {
     "name": "stdout",
     "output_type": "stream",
     "text": [
      " Os numeros em ordem decrescente são 10.0,9.0 e 4.0 !\n"
     ]
    }
   ],
   "source": [
    "p1 = float(input(\"Entre o preço do primeiro produto :\"))\n",
    "p2 = float(input(\"Entre o preço do segundo produto :\"))\n",
    "p3 = float(input(\"Entre o preço do terceiro produto :\"))\n",
    "\n",
    "# Cria uma lista com os números\n",
    "# numeros = [numero1, numero2, numero3]\n",
    "\n",
    "# Ordena a lista em ordem decrescente\n",
    "# numeros.sort(reverse=True)\n",
    "\n",
    "maior = p1\n",
    "medio = p1\n",
    "menor = p1\n",
    "\n",
    "if p2 > p1 and p3:\n",
    "    maior = p2\n",
    "else:\n",
    "    menor = p2\n",
    "\n",
    "if p3 > p1 and p2:\n",
    "    maior = p3\n",
    "else:\n",
    "    menor = p3\n",
    "\n",
    "print(f\" Os numeros em ordem decrescente são {maior},{medio} e {menor} !\")\n",
    "\n"
   ]
  },
  {
   "cell_type": "markdown",
   "metadata": {},
   "source": [
    "### Exercício 20 - Faça um Programa que pergunte em que turno você estuda. Peça para digitar M-matutino ou V-Vespertino ou N- Noturno. Imprima a mensagem \"Bom Dia!\", \"Boa Tarde!\" ou \"Boa Noite!\" ou \"Valor Inválido!\", conforme o caso."
   ]
  },
  {
   "cell_type": "code",
   "execution_count": 16,
   "metadata": {},
   "outputs": [
    {
     "name": "stdout",
     "output_type": "stream",
     "text": [
      "Boa Tarde !\n"
     ]
    }
   ],
   "source": [
    "turno = str(input(\" Em qual turno você estuda ? Digite M para matutino ou V para Vespertino ou N para Noturno\"))\n",
    "turno = turno.lower()\n",
    "\n",
    "if turno == \"m\" :\n",
    "    print (\"Bom Dia !\")\n",
    "elif turno == \"v\" :\n",
    "    print (\"Boa Tarde !\")\n",
    "elif turno == \"n\" :\n",
    "    print (\"Boa Noite !\")     \n",
    "else:\n",
    "    print (\"Valor Inválido! Por favor, digite M, V ou N para o turno.\")"
   ]
  },
  {
   "cell_type": "markdown",
   "metadata": {},
   "source": [
    "### Exercício 21 - As Organizações Tabajara resolveram dar um aumento de salário aos seus colaboradores e lhe contaram para desenvolver o programa que calculará os reajustes. Faça um programa que recebe o salário de um colaborador e o reajuste segundo o seguinte critério, baseado no salário atual:\n",
    "\n",
    "    salários até R$ 280,00 (incluindo) : aumento de 20%\n",
    "    salários entre R$ 280,00 e R$ 700,00 : aumento de 15%\n",
    "    salários entre R$ 700,00 e R$ 1500,00 : aumento de 10%\n",
    "    salários de R$ 1500,00 em diante : aumento de 5%\n",
    "\n",
    "Após o aumento ser realizado, informe na tela:\n",
    " \n",
    "    salário antes do reajuste;\n",
    "    percentual de aumento aplicado;\n",
    "    valor do aumento;\n",
    "    novo salário, após o aumento."
   ]
  },
  {
   "cell_type": "code",
   "execution_count": 32,
   "metadata": {},
   "outputs": [
    {
     "name": "stdout",
     "output_type": "stream",
     "text": [
      "O salário antes do reajuste era R$ 1000.0\n",
      "O percentual de aumento aplicado foi de 10 %\n",
      "O valor do aumento foi R$ 100.0\n",
      "O novo salário será R$ 1100.0\n"
     ]
    }
   ],
   "source": [
    "salario = float(input(\" Insira seu salário R$ \"))\n",
    "\n",
    "if salario <= 280 :\n",
    "    p = 20\n",
    "elif salario > 280 and salario <= 700 :\n",
    "    p = 15\n",
    "elif salario > 700 and salario <= 1500 :\n",
    "    p = 10\n",
    "else:\n",
    "    p = 5\n",
    "\n",
    "reajuste = salario*(p/100)\n",
    "novoSalario = reajuste + salario\n",
    "\n",
    "print(f\"O salário antes do reajuste era R$ {salario}\")\n",
    "print(f\"O percentual de aumento aplicado foi de {p} %\")\n",
    "print(f\"O valor do aumento foi R$ {reajuste}\")\n",
    "print(f\"O novo salário será R$ {novoSalario}\")"
   ]
  },
  {
   "cell_type": "markdown",
   "metadata": {},
   "source": [
    "Exercício 22 - Faça um programa para o cálculo de uma folha de pagamento, sabendo que os descontos são do Imposto de Renda, que depende do salário bruto (conforme tabela abaixo) e 3% para o Sindicato e que o FGTS corresponde a 11% do Salário Bruto, mas não é descontado (é a empresa que deposita). O Salário Líquido corresponde ao Salário Bruto menos os descontos. O programa deverá pedir ao usuário o valor da sua hora e a quantidade de horas trabalhadas no mês.\n",
    "Desconto do IR:\n",
    "\n",
    "    Salário Bruto até 900 (inclusive) – isento\n",
    "    Salário Bruto até 1500 (inclusive) - desconto de 5%\n",
    "    Salário Bruto até 2500 (inclusive) - desconto de 10%\n",
    "    Salário Bruto acima de 2500 - desconto de 20%\n",
    "    \n",
    "Imprima na tela as informações, dispostas conforme o exemplo abaixo. No exemplo o valor da hora é 5 e a quantidade de hora é 220."
   ]
  },
  {
   "cell_type": "code",
   "execution_count": 37,
   "metadata": {},
   "outputs": [
    {
     "name": "stdout",
     "output_type": "stream",
     "text": [
      "Salario Bruto R$ : 200.0\n",
      "FGTS depositado pela empresa R$ 22.0\n",
      "Pago ao Sindicato R$ 6.0\n",
      "O desconto do IR foi de 0 %, totalizando R$ 0.0\n",
      "O salário liquído será R$ 194.0\n"
     ]
    }
   ],
   "source": [
    "valorHora = float(input(\" Insira o valor da sua hora trabalha R$ \"))\n",
    "qtdeHora = float(input(\" Insira a quantidade de horas trabalhadas no mês\"))\n",
    "\n",
    "salarioBruto = valorHora * qtdeHora\n",
    "\n",
    "if salarioBruto <= 900 :\n",
    "    p = 0\n",
    "elif salarioBruto > 900 and salarioBruto <= 1500 :\n",
    "    p = 5\n",
    "elif salarioBruto > 1500 and salarioBruto <= 2500 :\n",
    "    p = 10\n",
    "else:\n",
    "    p = 20\n",
    "\n",
    "descontoImposto = salarioBruto*(p/100)\n",
    "fgts = (salarioBruto * 0.11) \n",
    "sindicato = (salarioBruto * 0.03)\n",
    "SalarioLiquido = salarioBruto - (descontoImposto) - sindicato \n",
    "\n",
    "print(f\"Salario Bruto R$ : {salarioBruto}\")\n",
    "print(f\"FGTS depositado pela empresa R$ {fgts}\")\n",
    "print(f\"Pago ao Sindicato R$ {sindicato}\")\n",
    "print(f\"O desconto do IR foi de {p} %, totalizando R$ {descontoImposto}\")\n",
    "print(f\"O salário liquído será R$ {SalarioLiquido}\")"
   ]
  },
  {
   "cell_type": "code",
   "execution_count": null,
   "metadata": {},
   "outputs": [],
   "source": []
  },
  {
   "cell_type": "markdown",
   "metadata": {},
   "source": [
    "### Exercício 23 - Faça um Programa que leia um número e exiba o dia correspondente da semana. (1- Domingo, 2- Segunda, etc.), se digitar outro valor deve aparecer valor inválido."
   ]
  },
  {
   "cell_type": "code",
   "execution_count": 39,
   "metadata": {},
   "outputs": [
    {
     "name": "stdout",
     "output_type": "stream",
     "text": [
      "Número infomado invalido\n"
     ]
    }
   ],
   "source": [
    "dia = int(input(\"Insira um número de 1 a 7\"))\n",
    "\n",
    "if dia == 2:\n",
    "    print(\"Segunda - Feira !!\")\n",
    "elif dia == 3:\n",
    "    print(\"Terça - Feira !!\")\n",
    "elif dia == 4:\n",
    "    print(\"Quarta - Feira !!\")\n",
    "elif dia == 5:\n",
    "    print(\"Quinta - Feira !!\")\n",
    "elif dia == 6:\n",
    "    print(\"Sexta - Feira !!\")\n",
    "elif dia == 7:\n",
    "    print(\"Sabado !!\")\n",
    "elif dia == 1:\n",
    "    print(\"Domingo !!\")\n",
    "else :\n",
    "    print(\"Número infomado invalido. Somente válidos numeros entre 1 a 7\")\n",
    "    "
   ]
  },
  {
   "cell_type": "markdown",
   "metadata": {},
   "source": [
    "### Exercício 24 - Faça um programa que lê as duas notas parciais obtidas por um aluno numa disciplina ao longo de um semestre, e calcule a sua média. A atribuição de conceitos obedece à tabela abaixo:\n",
    "\n",
    "O algoritmo deve mostrar na tela as notas, a média, o conceito correspondente e a mensagem “APROVADO” se o conceito for A, B ou C ou “REPROVADO” se o conceito for D ou E."
   ]
  },
  {
   "cell_type": "code",
   "execution_count": 7,
   "metadata": {},
   "outputs": [
    {
     "name": "stdout",
     "output_type": "stream",
     "text": [
      "Primeira Nota 10.0\n",
      "Segunda Nota 5.0\n",
      "A média final 7.5\n",
      "Conceito B\n",
      "Aprovado !\n"
     ]
    }
   ],
   "source": [
    "n1 = float(input(\"Insira a primeira nota :\"))\n",
    "n2 = float(input(\"Insira a segunda nota :\"))\n",
    "\n",
    "media = (n1 + n2)/2\n",
    "resultado = \"Aprovado !\"\n",
    "\n",
    "if media >= 9 and media< 10:\n",
    "    conceito = \"A\"\n",
    "elif media >= 7.5 and media< 9:\n",
    "    conceito = \"B\"\n",
    "elif media >= 6 and media< 7.5:\n",
    "    conceito = \"C\"\n",
    "elif media >= 4 and media< 6:\n",
    "    conceito = \"D\"\n",
    "else :\n",
    "    conceito = \"E\"\n",
    "\n",
    "if media < 6:\n",
    "    resultado = \"Reprovado !\"\n",
    "\n",
    "print(f\"Primeira Nota {n1}\")\n",
    "print(f\"Segunda Nota {n2}\")\n",
    "print(f\"A média final é {media}\")\n",
    "print(f\"Conceito {conceito}\")\n",
    "print(resultado)"
   ]
  },
  {
   "cell_type": "markdown",
   "metadata": {},
   "source": [
    "### Exercício 25 - Faça um Programa que peça os 3 lados de um triângulo. O programa deverá informar se os valores podem ser um triângulo. Indique, caso os lados formem um triângulo, se ele é: equilátero, isósceles ou escaleno.\n",
    "\n",
    "Dicas:\n",
    "\n",
    "    Três lados formam um triângulo quando a soma de quaisquer dois lados for maior que o terceiro;\n",
    "    Triângulo Equilátero: três lados iguais;\n",
    "    Triângulo Isósceles: quaisquer dois lados iguais;\n",
    "    Triângulo Escaleno: três lados diferentes;"
   ]
  },
  {
   "cell_type": "code",
   "execution_count": 16,
   "metadata": {},
   "outputs": [
    {
     "name": "stdout",
     "output_type": "stream",
     "text": [
      "Os lados informados formam um triângulo Escaleno  !\n"
     ]
    }
   ],
   "source": [
    "l1 = float(input(\"Insira a dimensão do primeiro lado do triângulo :\"))\n",
    "l2 = float(input(\"Insira a dimensão do segundo lado do triângulo :\"))\n",
    "l3 = float(input(\"Insira a dimensão do terceiro lado do triângulo :\"))\n",
    "\n",
    "if (l1 + l2) > l3 and (l2 + l3) > l1 and (l1 + l3) > l2 :\n",
    "    if l1 == l2 and l2 == l3 :\n",
    "        tipo = \"Equilátero !\"\n",
    "    elif l1 == l2 or l2 == l3 or l1 == l3 :\n",
    "        tipo =\"Isósceles !\"\n",
    "    else:\n",
    "        tipo = \"Escaleno \"\n",
    "    print(f\"Os lados informados formam um triângulo {tipo} !\")\n",
    "else:\n",
    "    print (\"Os lados informados não formam um triângulo !\")"
   ]
  },
  {
   "cell_type": "markdown",
   "metadata": {},
   "source": [
    "### Exercício 26 - Faça um Programa para leitura de três notas parciais de um aluno. O programa deve calcular a média alcançada por aluno e presentar:\n",
    "\n",
    "\n",
    "    A mensagem \"Aprovado\", se a média for maior ou igual a 7, com a respectiva média alcançada;\n",
    "\n",
    "    A mensagem \"Reprovado\", se a média for menor do que 7, com a respectiva média alcançada;\n",
    "\n",
    "    A mensagem \"Aprovado com Distinção\", se a média for igual a 10."
   ]
  },
  {
   "cell_type": "code",
   "execution_count": 23,
   "metadata": {},
   "outputs": [
    {
     "name": "stdout",
     "output_type": "stream",
     "text": [
      "A média final foi 7.0, com conceito final : Aprovado ! \n"
     ]
    }
   ],
   "source": [
    "n1 = float(input(\"Insira a primeira nota :\"))\n",
    "n2 = float(input(\"Insira a segunda nota :\"))\n",
    "n3 = float(input(\"Insira a terceira nota :\"))\n",
    "\n",
    "media = (n1 + n2 + n3)/3\n",
    "\n",
    "if media >= 7 and media < 10 :\n",
    "    resultado = \"Aprovado !\"\n",
    "elif media == 10 :\n",
    "    resultado = \"Aprovado com Distinção !\"\n",
    "else :\n",
    "    resultado = \"Reprovado !\"\n",
    "\n",
    "print(f\"A média final foi {media}, com conceito final : {resultado} \")"
   ]
  },
  {
   "cell_type": "markdown",
   "metadata": {},
   "source": [
    "### Exercício 27 - Faça um Programa que peça um número inteiro e determine se ele é par ou ímpar. Dica: utilize o operador módulo (resto da divisão)."
   ]
  },
  {
   "cell_type": "code",
   "execution_count": 27,
   "metadata": {},
   "outputs": [
    {
     "name": "stdout",
     "output_type": "stream",
     "text": [
      "O número 3 é Impar\n"
     ]
    }
   ],
   "source": [
    "numero = int(input('Insira o seu número :'))\n",
    "\n",
    "sobra = numero%2\n",
    "\n",
    "if sobra == 0 :\n",
    "    print(f\"O número {numero} é Par\")\n",
    "else:\n",
    "    print(f\"O número {numero} é Impar\")"
   ]
  },
  {
   "cell_type": "markdown",
   "metadata": {},
   "source": [
    "### Exercício 28 - Faça um Programa que peça um número e informe se o número é inteiro ou decimal. Dica: utilize uma função de arredondamento."
   ]
  },
  {
   "cell_type": "code",
   "execution_count": 29,
   "metadata": {},
   "outputs": [
    {
     "name": "stdout",
     "output_type": "stream",
     "text": [
      "O número é Decimal.\n"
     ]
    }
   ],
   "source": [
    "n = float(input(\"Digite um número: \"))\n",
    "\n",
    "nArredondado = round(n)\n",
    "\n",
    "if n == nArredondado:\n",
    "    print(\"O número é Inteiro.\")\n",
    "else:\n",
    "    print(\"O número é Decimal.\")"
   ]
  },
  {
   "cell_type": "markdown",
   "metadata": {},
   "source": [
    "### Exercício 29 - Faça um Programa que leia 2 números e em seguida pergunte ao usuário qual operação ele deseja realizar. O resultado da operação deve ser acompanhado de uma frase que diga se o número é:\n",
    "\n",
    "    par ou ímpar;\n",
    "    positivo ou negativo;\n",
    "    inteiro ou decimal."
   ]
  },
  {
   "cell_type": "code",
   "execution_count": 46,
   "metadata": {},
   "outputs": [
    {
     "name": "stdout",
     "output_type": "stream",
     "text": [
      "Escolha a operação:\n",
      "1 - Soma\n",
      "2 - Subtração\n",
      "3 - Multiplicação\n",
      "4 - Divisão\n",
      "O resultado da SUBTRAÇÃO entre 10.0 e 4.0 é: 6.0\n",
      "O resultado é PAR, POSITIVO e INTEIR0.\n"
     ]
    }
   ],
   "source": [
    "n1 = float(input(\"Digite o primeir número: \"))\n",
    "n2 = float(input(\"Digite o segundo número: \"))\n",
    "\n",
    "print(\"Escolha a operação:\")\n",
    "print(\"1 - Soma\")\n",
    "print(\"2 - Subtração\")\n",
    "print(\"3 - Multiplicação\")\n",
    "print(\"4 - Divisão\")\n",
    "\n",
    "operacao = int(input(\"Digite o número da operação desejada (1 -2 -3 - 4): \"))\n",
    "\n",
    "if operacao == 1:\n",
    "    resultado = (n1 + n2)\n",
    "    op = \"SOMA\"\n",
    "elif operacao == 2:\n",
    "    resultado = (n1 - n2)\n",
    "    op = \"SUBTRAÇÃO\"\n",
    "elif operacao == 3:\n",
    "    resultado = (n1 * n2)\n",
    "    op = \"MULTIPLICAÇÃO\"\n",
    "elif operacao == 4:\n",
    "    resultado = (n1 / n2)\n",
    "    op = \"DIVISÃO\"\n",
    "else:\n",
    "    print(\"Operação inválida. Digite um número entre 1 e 4\")\n",
    "\n",
    "if resultado % 2 == 0:\n",
    "    par_impar = (\"PAR\")\n",
    "else:\n",
    "    par_impar = (\"IMPAR\")\n",
    "\n",
    "if resultado > 0:\n",
    "    pos_neg = (\"POSITIVO\")\n",
    "else:\n",
    "    pos_neg = (\"NEGATIVO\")\n",
    "\n",
    "teste = round(resultado)\n",
    "\n",
    "if resultado == teste:\n",
    "    int_dec = (\"INTEIR0\")\n",
    "else:\n",
    "    int_dec = (\"DECIMAL\")\n",
    "\n",
    "print(f\"O resultado da {op} entre {n1} e {n2} é: {resultado}\")\n",
    "print(f\"O resultado é {par_impar}, {pos_neg} e {int_dec}.\")\n"
   ]
  },
  {
   "cell_type": "markdown",
   "metadata": {},
   "source": [
    "### Exercício 30 - Faça um programa que faça 5 perguntas para uma pessoa sobre um crime. As perguntas são:\n",
    "\n",
    "1. \"Telefonou para a vítima?\"\n",
    "2. \"Esteve no local do crime?\"\n",
    "3. \"Mora perto da vítima?\"\n",
    "4. \"Devia para a vítima?\"\n",
    "5. \"Já trabalhou com a vítima?\"\n",
    "\n",
    "O programa deve no final emitir uma classificação sobre a participação da pessoa no crime. Se a pessoa responder positivamente a 2 questões ela deve ser classificada como \"Suspeita\", entre 3 e 4 como \"Cúmplice\" e 5 como \"Assassino\". Caso contrário, ele será classificado como \"Inocente\"."
   ]
  },
  {
   "cell_type": "code",
   "execution_count": 50,
   "metadata": {},
   "outputs": [
    {
     "name": "stdout",
     "output_type": "stream",
     "text": [
      "Você é Cúmplice !\n"
     ]
    }
   ],
   "source": [
    "p1 = int(input(\"Você telefonou para a vítima ? 1 - SIM ou 2 - NÃO\"))\n",
    "p2 = int(input(\"Você esteve no local do crime ? 1 - SIM ou 2 - NÃO\"))\n",
    "p3 = int(input(\"Você mora perto da vítima ? 1 - SIM ou 2 - NÃO\"))\n",
    "p4 = int(input(\"Você devia para a vítima ? 1 - SIM ou 2 - NÃO\"))\n",
    "p5 = int(input(\"Você já trabalhou com a vítima ? 1 - SIM ou 2 - NÃO\"))\n",
    "\n",
    "resultado = p1 + p2 + p3 +p4 + p5\n",
    "\n",
    "if resultado == 10 :\n",
    "    print(\"Você é Assassino !\")\n",
    "elif resultado >=8 and resultado < 10:\n",
    "    print (\"Você é Cúmplice !\")\n",
    "elif resultado >=7 and resultado < 8:\n",
    "    print (\"Você é Suspeito !\")\n",
    "else :\n",
    "    print (\"Você é Inocente !\")"
   ]
  },
  {
   "cell_type": "markdown",
   "metadata": {},
   "source": [
    "### Exercício 31 - Um posto está vendendo combustíveis com a seguinte tabela de descontos:\n",
    "\n",
    "#### Álcool\n",
    "\n",
    "    até 20 litros, desconto de 3% por litro\n",
    "    acima de 20 litros, desconto de 5% por litro\n",
    "\n",
    "#### Gasolina\n",
    "    até 20 litros, desconto de 4% por litro\n",
    "    acima de 20 litros, desconto de 6% por litro\n",
    "    \n",
    "Escreva um algoritmo que leia o número de litros vendidos, o tipo de combustível (codificado da seguinte forma: A-álcool, G-gasolina), calcule e imprima o valor a ser pago pelo cliente sabendo-se que o preço do litro da gasolina é R$ 2,50 o preço do litro do álcool é R$ 1,90."
   ]
  },
  {
   "cell_type": "code",
   "execution_count": 54,
   "metadata": {},
   "outputs": [
    {
     "name": "stdout",
     "output_type": "stream",
     "text": [
      "Você consumiu 10.0 Litros de Gasolina com custo de R$ R$ 2,50/Litro, teve um desconto de 4% e o valor a ser pago é de R$ 24.0\n"
     ]
    }
   ],
   "source": [
    "consumo = float(input(\"Insira a quantidade de litros vendidos :\"))\n",
    "tipo = str(input(\" Tipo de combustível: A - Álcool ou G - Gasolina\")).upper()\n",
    "\n",
    "if tipo == \"A\" and consumo <= 20 :\n",
    "    conta = (1.9 * consumo) * 0.97\n",
    "    desconto = \"3%\"\n",
    "    produto = \"Alcool com custo de R$ 1,90/Litro\"\n",
    "elif tipo == \"A\" and consumo > 20 :\n",
    "    conta = ( 1.9 * consumo) * 0.95\n",
    "    desconto = \"5%\"\n",
    "    produto = \"Alcool com custo de R$ 1,90/Litro\"\n",
    "elif tipo == \"G\" and consumo <= 20 :\n",
    "    conta = (2.50 * consumo) * 0.96\n",
    "    desconto = \"4%\"\n",
    "    produto = \"Gasolina com custo de R$ R$ 2,50/Litro\"\n",
    "else:\n",
    "    conta = (2.5 * consumo) * 0.94\n",
    "    desconto = \"6%\"\n",
    "    produto = \"Gasolina com custo de R$ R$ 2,50/Litro\"\n",
    "\n",
    "print(f\"Você consumiu {consumo} Litros de {produto}, teve um desconto de {desconto} e o valor a ser pago é de R$ {conta}\")\n"
   ]
  },
  {
   "cell_type": "markdown",
   "metadata": {},
   "source": [
    "### Exercício 32 - Uma fruteira está vendendo frutas com a seguinte tabela de preços:\n",
    "\n",
    "Se o cliente comprar mais de 8 Kg em frutas ou o valor total da compra ultrapassar R$ 25,00, receberá ainda um desconto de 10% sobre este total. Escreva um algoritmo para ler a quantidade (em Kg) de morangos e a quantidade (em Kg) de maças adquiridas e escreva o valor a ser pago pelo cliente."
   ]
  },
  {
   "cell_type": "code",
   "execution_count": 63,
   "metadata": {},
   "outputs": [
    {
     "name": "stdout",
     "output_type": "stream",
     "text": [
      "O cliente comprou 3.0 kg de Morango e 2.0 kg de Maça totalizando R$ 11.1, teve um desconto de 0 % e por isso sua conta ficou em R$ 11.1\n"
     ]
    }
   ],
   "source": [
    "morango = float(input(\"Digite a quantidade de morangos (em Kg): \"))\n",
    "maca = float(input(\"Digite a quantidade de maças (em Kg): \"))\n",
    "\n",
    "if morango > 5:\n",
    "    conta_morango = (2.2 * morango)\n",
    "else:\n",
    "    conta_morango = (2.5 * morango)\n",
    "\n",
    "if maca <= 5:\n",
    "    conta_maca = (1.8 * maca)\n",
    "else:\n",
    "    conta_maca = (1.5 * maca)\n",
    "\n",
    "if (morango + maca) > 8 or (conta_morango + conta_maca) > 25 :\n",
    "    desconto = (conta_morango + conta_maca ) * 0.9\n",
    "    total = (conta_morango + conta_maca)\n",
    "    d = \"10 %\"\n",
    "else:\n",
    "    desconto = conta_morango + conta_maca\n",
    "    total = (conta_morango + conta_maca)\n",
    "    d = \"0 %\"\n",
    "\n",
    "print(f\"O cliente comprou {morango} kg de Morango e {maca} kg de Maça totalizando R$ {total}, teve um desconto de {d} e por isso sua conta ficou em R$ {desconto}\")"
   ]
  },
  {
   "cell_type": "markdown",
   "metadata": {},
   "source": [
    "### Exercício 33 - O Hipermercado Tabajara está com uma promoção de carnes que é imperdível. Confira:\n",
    "\n",
    "Para atender a todos os clientes, cada cliente poderá levar apenas um dos tipos de carne da promoção, porém não há limites para a quantidade de carne por cliente. Se compra for feita no cartão Tabajara o cliente receberá ainda um desconto de 5% sobre o total da compra. Escreva um programa que peça o tipo e a quantidade de carne comprada pelo usuário e gere um cupom fiscal, contendo as informações da compra: tipo e quantidade de carne, preço total, tipo de pagamento, valor do desconto e valor a pagar."
   ]
  },
  {
   "cell_type": "code",
   "execution_count": 79,
   "metadata": {},
   "outputs": [
    {
     "name": "stdout",
     "output_type": "stream",
     "text": [
      "Tipo de Carne : Filé Duplo\n",
      "Quantidade : 4.0\n",
      "Preço Total : 19.6\n",
      "Forma de Pagamento : Sem Cartão Tabajara\n",
      "Valor do desconto R$ 0.0\n",
      "Valor a Pagar R$ 19.6\n"
     ]
    }
   ],
   "source": [
    "carne = input(\"Qual o tipo de carne desejada : F - Filé Duplo, A - Alcatra ou P - Picanha\").upper()\n",
    "qtde = float(input(\"Qual a quantidade desejada (em kg)\"))\n",
    "pagamento = str(input(\" Pagamento com Cartão Tabajara: S - SIM ou N = NÃO\"))\n",
    "\n",
    "if carne == \"F\" and qtde > 5 :\n",
    "    conta = (5.8 * qtde)\n",
    "    tipo = \"Filé Duplo\"\n",
    "elif carne == \"F\" and qtde <= 5 :\n",
    "    conta = (4.9 * qtde)\n",
    "    tipo = \"Filé Duplo\"\n",
    "elif carne == \"A\" and qtde > 5 :\n",
    "    conta = (6.8 * qtde)\n",
    "    tipo = \"Alcatra\"\n",
    "elif carne == \"A\" and qtde <= 5 :\n",
    "    conta = (5.9 * qtde)\n",
    "    tipo = \"Alcatra\"\n",
    "elif carne == \"P\" and qtde > 5 :\n",
    "    conta = (7.8 * qtde)\n",
    "    tipo = \"Picanha\"\n",
    "elif carne == \"P\" and qtde <= 5 :\n",
    "    conta = (6.9 * qtde)\n",
    "    tipo = \"Picanha\"\n",
    "else:\n",
    "    tipo = \"Tipo de carne inválida\"\n",
    "\n",
    "if pagamento == \"S\" :\n",
    "    final = (conta * 0.95)\n",
    "    desconto = (conta * 0.05)\n",
    "    cartao = \"Cartão Tabajara\"\n",
    "else:\n",
    "    final = conta\n",
    "    desconto = (conta * 0.00)\n",
    "    cartao = \"Sem Cartão Tabajara\"\n",
    "\n",
    "print(f\"Tipo de Carne : {tipo}\")\n",
    "print(f\"Quantidade : {qtde}\")  \n",
    "print(f\"Preço Total : {conta}\")  \n",
    "print(f\"Forma de Pagamento : {cartao}\")  \n",
    "print(f\"Valor do desconto R$ {desconto}\") \n",
    "print(f\"Valor a Pagar R$ {final}\") "
   ]
  },
  {
   "cell_type": "markdown",
   "metadata": {},
   "source": [
    "### Código 7"
   ]
  },
  {
   "cell_type": "code",
   "execution_count": 45,
   "metadata": {},
   "outputs": [
    {
     "name": "stdout",
     "output_type": "stream",
     "text": [
      "O número informado não é um quadrado perfeito\n"
     ]
    }
   ],
   "source": [
    "n1 = int(input(\"Insira um número inteiro\"))\n",
    "\n",
    "raiz = (n1**0.5)\n",
    "raiz_arredondado = round(raiz)\n",
    "\n",
    "if raiz == raiz_arredondado:\n",
    "    print(f\"O número informado é um quadrado perfeito\")\n",
    "else:\n",
    "    print(f\"O número informado não é um quadrado perfeito\")"
   ]
  },
  {
   "cell_type": "markdown",
   "metadata": {},
   "source": [
    "### Código 3"
   ]
  },
  {
   "cell_type": "code",
   "execution_count": 40,
   "metadata": {},
   "outputs": [
    {
     "name": "stdout",
     "output_type": "stream",
     "text": [
      " Você não é maior de idade e não possui carteira de trabalho\n"
     ]
    }
   ],
   "source": [
    "idade = int(input(\"Insira a idade\"))\n",
    "carteira = int(input(\"Informe se você possui CNH : 1 - SIM  ou 2 - NÃO\"))\n",
    "\n",
    "if idade >=18 and carteira == 1 :\n",
    "    print(\"Você é maior de idade e possui carteira de trabalho\")\n",
    "elif idade >= 18 and carteira == 2 :\n",
    "    print(\"Você é maior de idade, mas não possui carteira de trabalho\")\n",
    "else :\n",
    "    print(\" Você não é maior de idade e não possui carteira de trabalho\")\n"
   ]
  },
  {
   "cell_type": "markdown",
   "metadata": {},
   "source": [
    "### Código 4"
   ]
  },
  {
   "cell_type": "code",
   "execution_count": null,
   "metadata": {},
   "outputs": [],
   "source": [
    "n1 = int(input(\" Insira o  número:\"))\n",
    "\n",
    "n1 "
   ]
  },
  {
   "cell_type": "markdown",
   "metadata": {},
   "source": [
    "### Código 1"
   ]
  },
  {
   "cell_type": "code",
   "execution_count": 47,
   "metadata": {},
   "outputs": [
    {
     "name": "stdout",
     "output_type": "stream",
     "text": [
      "O numero é Negativo !\n"
     ]
    }
   ],
   "source": [
    "n1 = int(input(\"Insira um número inteiro\"))\n",
    "\n",
    "if n1 > 0 :\n",
    "    print(\"O número é Positivo !\")\n",
    "else :\n",
    "    print(\"O numero é Negativo !\")"
   ]
  },
  {
   "cell_type": "markdown",
   "metadata": {},
   "source": [
    "### Código 8"
   ]
  },
  {
   "cell_type": "code",
   "execution_count": 51,
   "metadata": {},
   "outputs": [
    {
     "name": "stdout",
     "output_type": "stream",
     "text": [
      "O maior número é 69\n",
      "O menor número é 1\n"
     ]
    }
   ],
   "source": [
    "n1 = int(input(\"Insira o primeiro número\"))\n",
    "n2 = int(input(\"Insira o segundo número\"))\n",
    "n3 = int(input(\"Insira o terceito número\"))\n",
    "\n",
    "maior = n1\n",
    "menor = n1\n",
    "\n",
    "if n2 > n1 and n2 > n3 :\n",
    "    maior = n2\n",
    "elif n3 > n1 and n3 > n2 :\n",
    "    maior = n3\n",
    "\n",
    "if n2 < n1 and n2 < n3 :\n",
    "    menor = n2\n",
    "elif n3 < n1 and n3 < n2 :\n",
    "    menor = n3\n",
    "\n",
    "print(f'O maior número é {maior}')\n",
    "print(f'O menor número é {menor}')"
   ]
  },
  {
   "cell_type": "markdown",
   "metadata": {},
   "source": [
    "### Código 6"
   ]
  },
  {
   "cell_type": "code",
   "execution_count": 57,
   "metadata": {},
   "outputs": [
    {
     "name": "stdout",
     "output_type": "stream",
     "text": [
      " DEZEMBRO é um mês do Verão !\n"
     ]
    }
   ],
   "source": [
    "mes = str(input(\"Insira um mês :\")).upper()\n",
    "\n",
    "verao =(\"DEZEMBRO\", \"JANEIRO\",\"FEVEREIRO\")\n",
    "\n",
    "if mes in verao :\n",
    "    print(f\" {mes} é um mês do Verão !\")\n",
    "else :\n",
    "    print(f\" {mes} não é um mês do Verão !\")"
   ]
  },
  {
   "cell_type": "markdown",
   "metadata": {},
   "source": [
    "### Código 10"
   ]
  },
  {
   "cell_type": "code",
   "execution_count": 59,
   "metadata": {},
   "outputs": [
    {
     "name": "stdout",
     "output_type": "stream",
     "text": [
      "Quantidade de horas trabalhadas - 220.0\n",
      "Valor da hora trabalhada - R$ 100.0\n",
      "Salario Bruto - R$ 22000.0\n",
      "Aliquota de Desconto - 20 %\n",
      "Valor de Imposto pago - R$ 4400.0\n",
      "FGTS - R$ 2420.0\n",
      "Sindicato - R$ 660.0\n",
      "Salário Liquído - R$ 16940.0\n"
     ]
    }
   ],
   "source": [
    "horas = float(input(\"Insira a quantidade de horas trabalhadas :\"))\n",
    "valor = float(input(\"Insira o valor da sua hora :\"))\n",
    "\n",
    "salarioBruto = horas * valor \n",
    "\n",
    "if salarioBruto <= 900 :\n",
    "    aliquota = 0\n",
    "elif salarioBruto > 900 and salarioBruto <=1500 :\n",
    "    aliquota = 5\n",
    "elif salarioBruto > 1500 and salarioBruto <= 2500 :\n",
    "    aliquota = 10\n",
    "else :\n",
    "    aliquota = 20\n",
    "\n",
    "fgts = salarioBruto * 0.11\n",
    "sindicato = salarioBruto * 0.03\n",
    "imposto = salarioBruto * (aliquota/100)\n",
    "\n",
    "salarioliquido = salarioBruto - imposto - sindicato\n",
    "\n",
    "print(f\"Quantidade de horas trabalhadas - {horas}\")\n",
    "print(f\"Valor da hora trabalhada - R$ {valor}\")\n",
    "print(f\"Salario Bruto - R$ {salarioBruto}\")\n",
    "print(f\"Aliquota de Desconto - {aliquota} %\")\n",
    "print(f\"Valor de Imposto pago - R$ {imposto}\")\n",
    "print(f\"FGTS - R$ {fgts}\")\n",
    "print(f\"Sindicato - R$ {sindicato}\")\n",
    "print(f\"Salário Liquído - R$ {salarioliquido}\")"
   ]
  },
  {
   "cell_type": "code",
   "execution_count": 60,
   "metadata": {},
   "outputs": [
    {
     "name": "stdout",
     "output_type": "stream",
     "text": [
      "apple\n",
      "banana\n",
      "cherry\n"
     ]
    }
   ],
   "source": [
    "fruits = [\"apple\", \"banana\", \"cherry\"]\n",
    "for x in fruits:\n",
    "  print(x)"
   ]
  },
  {
   "cell_type": "code",
   "execution_count": 61,
   "metadata": {},
   "outputs": [
    {
     "name": "stdout",
     "output_type": "stream",
     "text": [
      "b\n",
      "a\n",
      "n\n",
      "a\n",
      "n\n",
      "a\n"
     ]
    }
   ],
   "source": [
    "for x in \"banana\":\n",
    "  print(x)\n",
    "  "
   ]
  },
  {
   "cell_type": "code",
   "execution_count": 62,
   "metadata": {},
   "outputs": [
    {
     "name": "stdout",
     "output_type": "stream",
     "text": [
      "apple\n",
      "banana\n"
     ]
    }
   ],
   "source": [
    "fruits = [\"apple\", \"banana\", \"cherry\"]\n",
    "for x in fruits:\n",
    "  print(x)\n",
    "  if x == \"banana\":\n",
    "    break"
   ]
  }
 ],
 "metadata": {
  "kernelspec": {
   "display_name": "Python 3",
   "language": "python",
   "name": "python3"
  },
  "language_info": {
   "codemirror_mode": {
    "name": "ipython",
    "version": 3
   },
   "file_extension": ".py",
   "mimetype": "text/x-python",
   "name": "python",
   "nbconvert_exporter": "python",
   "pygments_lexer": "ipython3",
   "version": "3.11.0"
  }
 },
 "nbformat": 4,
 "nbformat_minor": 2
}
