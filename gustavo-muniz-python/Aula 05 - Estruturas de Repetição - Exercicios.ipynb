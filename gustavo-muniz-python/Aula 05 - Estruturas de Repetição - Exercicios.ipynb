{
 "cells": [
  {
   "cell_type": "markdown",
   "metadata": {},
   "source": [
    "### Exercício 01 – Faça um programa que peça uma nota, entre zero e dez. Mostre uma mensagem caso o valor seja inválido e continue pedindo até que o usuário informe um valor válido."
   ]
  },
  {
   "cell_type": "code",
   "execution_count": 26,
   "metadata": {},
   "outputs": [
    {
     "name": "stdout",
     "output_type": "stream",
     "text": [
      "Nota 11.0 inserida é inválida\n",
      "Nota 12.0 inserida é inválida\n",
      "Nota 13.0 inserida é inválida\n",
      "Nota 14.0 inserida é inválida\n",
      "Nota 15.0 inserida é inválida\n",
      "Nota 16.0 inserida é inválida\n",
      "Nota 4.0 é valida !\n"
     ]
    }
   ],
   "source": [
    "while True :\n",
    "    n = float(input('Insira uma nota entre Zero e Dez'))\n",
    "    if n >= 0 and n<=10 :\n",
    "            print(f'Nota {n} é valida !')\n",
    "            break\n",
    "    else:\n",
    "            print(f'Nota {n} inserida é inválida')\n",
    "        "
   ]
  },
  {
   "cell_type": "markdown",
   "metadata": {},
   "source": [
    "### Exercício 02 - Faça um programa que leia um nome de usuário e a sua senha e não aceite a senha igual ao nome do usuário, mostrando uma mensagem de erro e voltando a pedir as informações."
   ]
  },
  {
   "cell_type": "code",
   "execution_count": 29,
   "metadata": {},
   "outputs": [
    {
     "name": "stdout",
     "output_type": "stream",
     "text": [
      "Cadastro realizado com sucesso!\n"
     ]
    }
   ],
   "source": [
    "while True :\n",
    "    name = str(input('Insira o nome do usuário:')).lower()\n",
    "    senha = str(input('Insita a senha:')).lower ()\n",
    "    \n",
    "    if name != senha:\n",
    "        print(\"Cadastro realizado com sucesso!\")\n",
    "        break  \n",
    "    else:\n",
    "        print(f'Erro: A senha não pode ser igual ao nome de usuário. Tente novamente.')"
   ]
  },
  {
   "cell_type": "markdown",
   "metadata": {},
   "source": [
    "### Exercício 03 - Faça um programa que leia e valide as seguintes informações:\n",
    "    a) Nome: maior que 3 caracteres;\n",
    "    b) Idade: entre 0 e 150;\n",
    "    c) Salário: maior que zero;\n",
    "    d) Sexo: 'f' ou 'm';\n",
    "    e) Estado Civil: 's', 'c', 'v', 'd'"
   ]
  },
  {
   "cell_type": "code",
   "execution_count": 36,
   "metadata": {},
   "outputs": [
    {
     "name": "stdout",
     "output_type": "stream",
     "text": [
      "Nome Gustavo Muniz\n",
      "Idade 35 anos\n",
      "Salário R$ 1000.0\n",
      "Sexo : Masculino\n",
      "Estado Civil : Viúvo\n"
     ]
    }
   ],
   "source": [
    "\n",
    "while True:\n",
    "    nome = str(input('Insira o nome:'))\n",
    "\n",
    "    if len(nome) < 3 :\n",
    "        print('Nome inválido. Por favor insira um nome com mais de 3 caracteres')\n",
    "    else:\n",
    "        print(f'Nome {nome}')\n",
    "        break\n",
    "\n",
    "while True:\n",
    "    idade = float(input('Insira a idade entre 0 e 150:'))\n",
    "\n",
    "    if idade >= 0 and idade <= 150 :\n",
    "        idade = round(idade)\n",
    "        print(f'Idade {idade} anos')\n",
    "        break\n",
    "    else:\n",
    "         print('Idade inválido. Por favor insira uma idade entre 0 e 150')\n",
    "    \n",
    "\n",
    "while True:\n",
    "    salario = float(input('Insira o salario maior que 0:'))\n",
    "\n",
    "    if salario >= 0 :\n",
    "        print(f'Salário R$ {salario}')\n",
    "        break\n",
    "    else:\n",
    "        print('Salário inválido. Por favor insira um Salário maior que R$ 0,00')\n",
    "\n",
    "while True:\n",
    "    sexo = str(input('Insira o sexo: F- Feminino e M - Masculino')).upper ()\n",
    "\n",
    "    if sexo == \"M\" :\n",
    "        sexo = 'Masculino'\n",
    "        print(f'Sexo : {sexo}')\n",
    "        break\n",
    "    elif sexo == \"F\" :\n",
    "        sexo = 'Feminino'\n",
    "        print(f'Sexo : {sexo}')\n",
    "        break\n",
    "    else:\n",
    "        print('Sexo inválido. Por favor insira um sexo válido !')\n",
    "    \n",
    "while True:\n",
    "    estado_Civil = str(input('Insira o Estado Civil: S - Solteiro, C - Casado, V - Viuvo ou D - Divorciado')).upper ()\n",
    "\n",
    "    if estado_Civil == \"S\" :\n",
    "        estado_Civil = 'Solteiro'\n",
    "        print(f'Estado Civil : {estado_Civil}')\n",
    "        break\n",
    "    elif estado_Civil == \"C\" :\n",
    "        estado_Civil = 'Casado'\n",
    "        print(f'Estado Civil : {estado_Civil}')\n",
    "        break\n",
    "    if estado_Civil == \"V\" :\n",
    "        estado_Civil = 'Viúvo'\n",
    "        print(f'Estado Civil : {estado_Civil}')\n",
    "        break\n",
    "    if estado_Civil == \"D\" :\n",
    "        estado_Civil = 'Divorciado'\n",
    "        print(f'Estado Civil : {estado_Civil}')\n",
    "        break\n",
    "    else:\n",
    "        print('Estado Civil inválido. Por favor insira um Estado Civil válido !')   "
   ]
  },
  {
   "cell_type": "markdown",
   "metadata": {},
   "source": [
    "### Exercício 04 - Supondo que a população de um país A seja da ordem de 80000 habitantes com uma taxa anual de crescimento de 3% e que a população de B seja 200000 habitantes com uma taxa de crescimento de 1.5%. Faça um programa que calcule e escreva o número de anos necessários para que a população do país A ultrapasse ou iguale a população do país B, mantidas as taxas de crescimento."
   ]
  },
  {
   "cell_type": "code",
   "execution_count": 50,
   "metadata": {},
   "outputs": [
    {
     "name": "stdout",
     "output_type": "stream",
     "text": [
      "Após 63 anos, a população do país A ultrapassará ou igualará a população do país B.\n",
      "População do país A: 515033 habitantes.\n",
      "População do país B: 510964 habitantes.\n"
     ]
    }
   ],
   "source": [
    "populacao_A = 80000\n",
    "taxa_crescimento_A = 0.03\n",
    "populacao_B = 200000\n",
    "taxa_crescimento_B = 0.015\n",
    "ano = 0\n",
    "\n",
    "while populacao_A < populacao_B:\n",
    "    populacao_A += populacao_A * taxa_crescimento_A\n",
    "    populacao_B += populacao_B * taxa_crescimento_B\n",
    "    ano += 1\n",
    "\n",
    "print(f\"Após {ano} anos, a população do país A ultrapassará ou igualará a população do país B.\")\n",
    "print(f\"População do país A: {int(populacao_A)} habitantes.\")\n",
    "print(f\"População do país B: {int(populacao_B)} habitantes.\")"
   ]
  },
  {
   "cell_type": "markdown",
   "metadata": {},
   "source": [
    "### Exercício 05 - Altere o programa anterior permitindo ao usuário informar as populações e as taxas de crescimento iniciais. Valide a entrada e permita repetir a operação."
   ]
  },
  {
   "cell_type": "code",
   "execution_count": 55,
   "metadata": {},
   "outputs": [
    {
     "name": "stdout",
     "output_type": "stream",
     "text": [
      "Após 3 anos, a população do país A ultrapassará ou igualará a população do país B.\n",
      "População do país A: 239 habitantes.\n",
      "População do país B: 231 habitantes.\n"
     ]
    }
   ],
   "source": [
    "populacao_A = float(input('Insira a população do Pais A'))\n",
    "taxa_crescimento_A = float(input('Insira a taxa de crescimento do Pais A'))\n",
    "populacao_B = float(input('Insira a população do Pais B'))\n",
    "taxa_crescimento_B = float(input('Insira a taxa de crescimento do Pais B'))\n",
    "ano = 0\n",
    "\n",
    "while True:\n",
    "    if populacao_A < populacao_B:\n",
    "        populacao_A += populacao_A * taxa_crescimento_A\n",
    "        populacao_B += populacao_B * taxa_crescimento_B\n",
    "        ano += 1\n",
    "    else : \n",
    "        print(f\"Após {ano} anos, a população do país A ultrapassará ou igualará a população do país B.\")\n",
    "        print(f\"População do país A: {int(populacao_A)} habitantes.\")\n",
    "        print(f\"População do país B: {int(populacao_B)} habitantes.\")\n",
    "        break\n"
   ]
  },
  {
   "cell_type": "markdown",
   "metadata": {},
   "source": [
    "### Exercício 06 - Faça um programa que imprima na tela os números de 1 a 20, um abaixo do outro. Depois modifique o programa para que ele mostre os números um ao lado do outro."
   ]
  },
  {
   "cell_type": "code",
   "execution_count": 57,
   "metadata": {},
   "outputs": [
    {
     "name": "stdout",
     "output_type": "stream",
     "text": [
      "1\n",
      "2\n",
      "3\n",
      "4\n",
      "5\n",
      "6\n",
      "7\n",
      "8\n",
      "9\n",
      "10\n",
      "11\n",
      "12\n",
      "13\n",
      "14\n",
      "15\n",
      "16\n",
      "17\n",
      "18\n",
      "19\n",
      "20\n"
     ]
    }
   ],
   "source": [
    "for x in range(1,21):\n",
    "    print(x)"
   ]
  },
  {
   "cell_type": "code",
   "execution_count": 60,
   "metadata": {},
   "outputs": [
    {
     "name": "stdout",
     "output_type": "stream",
     "text": [
      "[1, 2, 3, 4, 5, 6, 7, 8, 9, 10, 11, 12, 13, 14, 15, 16, 17, 18, 19, 20]\n"
     ]
    }
   ],
   "source": [
    "valores = []\n",
    "for x in range(1,21):\n",
    "    valores.append(x)\n",
    "print(valores)"
   ]
  },
  {
   "cell_type": "markdown",
   "metadata": {},
   "source": [
    "### Exercício 07 - Faça um programa que leia 5 números e informe o maior número."
   ]
  },
  {
   "cell_type": "code",
   "execution_count": 66,
   "metadata": {},
   "outputs": [
    {
     "name": "stdout",
     "output_type": "stream",
     "text": [
      "[1, 2, 3, 4, 5]\n",
      "5\n"
     ]
    }
   ],
   "source": [
    "valores = []\n",
    "\n",
    "for x in range(1,6):\n",
    "    n = int(input(f'Insira o {x} numero'))\n",
    "    valores.append(n)\n",
    "\n",
    "print(valores)\n",
    "print(max(valores))\n"
   ]
  },
  {
   "cell_type": "markdown",
   "metadata": {},
   "source": [
    "### Exercício 08 - Faça um programa que leia 5 números e informe a soma e a média dos números."
   ]
  },
  {
   "cell_type": "code",
   "execution_count": 67,
   "metadata": {},
   "outputs": [
    {
     "name": "stdout",
     "output_type": "stream",
     "text": [
      "15\n",
      "3.0\n"
     ]
    }
   ],
   "source": [
    "valores = []\n",
    "\n",
    "for x in range(1,6):\n",
    "    n = int(input(f'Insira o {x} numero'))\n",
    "    valores.append(n)\n",
    "\n",
    "soma = sum(valores)\n",
    "media = sum(valores)/(len(valores))\n",
    "\n",
    "print(soma)\n",
    "print(media)"
   ]
  },
  {
   "cell_type": "markdown",
   "metadata": {},
   "source": [
    "### Exercício 09 - Faça um programa que imprima na tela apenas os números ímpares entre 1 e 50."
   ]
  },
  {
   "cell_type": "code",
   "execution_count": 75,
   "metadata": {},
   "outputs": [
    {
     "name": "stdout",
     "output_type": "stream",
     "text": [
      "[1, 3, 5, 7, 9, 11, 13, 15, 17, 19, 21, 23, 25, 27, 29, 31, 33, 35, 37, 39, 41, 43, 45, 47, 49]\n"
     ]
    }
   ],
   "source": [
    "impares = []\n",
    "\n",
    "for x in range(1,51) :\n",
    "    if x % 2 != 0 :\n",
    "        impares.append(x)\n",
    "        \n",
    "print(impares)"
   ]
  },
  {
   "cell_type": "markdown",
   "metadata": {},
   "source": [
    "### Exercício 10 - Faça um programa que receba dois números inteiros e gere os números inteiros que estão no intervalo compreendido por eles."
   ]
  },
  {
   "cell_type": "code",
   "execution_count": 81,
   "metadata": {},
   "outputs": [
    {
     "name": "stdout",
     "output_type": "stream",
     "text": [
      "[1, 2, 3, 4, 5, 6, 7, 8, 9]\n"
     ]
    }
   ],
   "source": [
    "n1 = int(input('Insira o primeiro numero inteiro'))\n",
    "n2 = int(input('Insira o segundo numero inteiro'))\n",
    "\n",
    "maior = max(n1,n2)\n",
    "menor = min(n1,n2)\n",
    "valores = []\n",
    "\n",
    "for x in range(menor,maior+1):\n",
    "    valores.extend([x])\n",
    "\n",
    "print(valores)\n",
    "\n"
   ]
  },
  {
   "cell_type": "markdown",
   "metadata": {},
   "source": [
    "### Exercício 11 - Altere o programa anterior para mostrar no final a soma dos números."
   ]
  },
  {
   "cell_type": "code",
   "execution_count": 85,
   "metadata": {},
   "outputs": [
    {
     "name": "stdout",
     "output_type": "stream",
     "text": [
      "[1, 2, 3, 4, 5]\n",
      "15\n"
     ]
    }
   ],
   "source": [
    "n1 = int(input('Insira o primeiro numero inteiro'))\n",
    "n2 = int(input('Insira o segundo numero inteiro'))\n",
    "\n",
    "maior = max(n1,n2)\n",
    "menor = min(n1,n2)\n",
    "valores = []\n",
    "soma = 0\n",
    "\n",
    "for x in range(menor,maior+1):\n",
    "    valores.extend([x])\n",
    "    soma += (x)\n",
    "\n",
    "print(valores)\n",
    "print(soma)"
   ]
  },
  {
   "cell_type": "markdown",
   "metadata": {},
   "source": [
    "### Exercício 12 - Desenvolva um gerador de tabuada, capaz de gerar a tabuada de qualquer número inteiro entre 1 a 10. O usuário deve informar de qual numero ele deseja ver a tabuada. A saída deve ser conforme o exemplo abaixo:"
   ]
  },
  {
   "cell_type": "code",
   "execution_count": 88,
   "metadata": {},
   "outputs": [
    {
     "name": "stdout",
     "output_type": "stream",
     "text": [
      "3 X 1 = 3\n",
      "3 X 2 = 6\n",
      "3 X 3 = 9\n",
      "3 X 4 = 12\n",
      "3 X 5 = 15\n",
      "3 X 6 = 18\n",
      "3 X 7 = 21\n",
      "3 X 8 = 24\n",
      "3 X 9 = 27\n",
      "3 X 10 = 30\n"
     ]
    }
   ],
   "source": [
    "n1 = int(input('Insira um número de 1 a 10 :'))\n",
    "\n",
    "for x in range(1,11):\n",
    "    multiplicacao = n1 * x\n",
    "    print(f'{n1} X {x} = {multiplicacao}')\n"
   ]
  },
  {
   "cell_type": "markdown",
   "metadata": {},
   "source": [
    "### Exercício 13 - Faça um programa que peça dois números, base e expoente, calcule e mostre o primeiro número elevado ao segundo número. Não utilize a função de potência da linguagem."
   ]
  },
  {
   "cell_type": "code",
   "execution_count": 94,
   "metadata": {},
   "outputs": [
    {
     "name": "stdout",
     "output_type": "stream",
     "text": [
      "27.0\n"
     ]
    }
   ],
   "source": [
    "base = float(input('Insira um número base:'))\n",
    "exp = int(input('Insira um número expoente :'))\n",
    "\n",
    "resultado = 1\n",
    "\n",
    "for i in range(exp):\n",
    "    resultado *= base\n",
    "\n",
    "print(resultado)"
   ]
  },
  {
   "cell_type": "markdown",
   "metadata": {},
   "source": [
    "### Exercício 14 - Faça um programa que peça 10 números inteiros, calcule e mostre a quantidade de números pares e a quantidade de números ímpares."
   ]
  },
  {
   "cell_type": "code",
   "execution_count": 103,
   "metadata": {},
   "outputs": [
    {
     "name": "stdout",
     "output_type": "stream",
     "text": [
      "[]\n",
      "0\n",
      "[2, 2, 2, 2, 2, 2, 2, 2, 2, 2]\n",
      "10\n"
     ]
    }
   ],
   "source": [
    "impares = []\n",
    "pares = []\n",
    "\n",
    "for x in range(1,11) :\n",
    "    n = int(input(f'Insira o {x} número'))\n",
    "    if n % 2 != 0 :\n",
    "        impares.append(n)\n",
    "    else:\n",
    "        pares.append(n)\n",
    "        \n",
    "print(impares)\n",
    "print(len(impares))\n",
    "print(pares)\n",
    "print(len(pares))\n"
   ]
  },
  {
   "cell_type": "markdown",
   "metadata": {},
   "source": [
    "### Exercício 15 - A série de Fibonacci é formada pela sequência 1,1,2,3,5,8,13,21,34,55,... Faça um programa capaz de gerar a série até o enésimo termo."
   ]
  },
  {
   "cell_type": "code",
   "execution_count": 1,
   "metadata": {},
   "outputs": [
    {
     "name": "stdout",
     "output_type": "stream",
     "text": [
      "[1, 1, 2, 3, 5, 8, 13, 21, 34]\n"
     ]
    }
   ],
   "source": [
    "fib = []\n",
    "resultado = 0\n",
    "n1 = 0\n",
    "n2 = 1\n",
    "\n",
    "for x in range(1,10):\n",
    "    n3 = n1 + n2 #1\n",
    "    n1 = n2 # 1\n",
    "    n2 = n3 # 2\n",
    "    resultado = n1\n",
    "    fib.append(resultado)\n",
    "\n",
    "print(fib)"
   ]
  },
  {
   "cell_type": "markdown",
   "metadata": {},
   "source": [
    "### Exercício 16 - A série de Fibonacci é formada pela sequência 0,1,1,2,3,5,8,13,21,34,55,... Faça um programa que gere a série até que o valor seja maior que 500."
   ]
  },
  {
   "cell_type": "code",
   "execution_count": 7,
   "metadata": {},
   "outputs": [
    {
     "name": "stdout",
     "output_type": "stream",
     "text": [
      "[1, 1, 2, 3, 5, 8, 13, 21, 34, 55, 89, 144, 233, 377, 610]\n"
     ]
    }
   ],
   "source": [
    "fib = []\n",
    "n1 = 0\n",
    "n2 = 1\n",
    "\n",
    "while n1 <500:\n",
    "    n3 = n1 + n2 #1\n",
    "    n1 = n2 # 1\n",
    "    n2 = n3 # 2\n",
    "    fib.append(n1)\n",
    "\n",
    "print(fib)"
   ]
  },
  {
   "cell_type": "code",
   "execution_count": 11,
   "metadata": {},
   "outputs": [
    {
     "name": "stdout",
     "output_type": "stream",
     "text": [
      "[1, 1, 2, 3, 5, 8, 13, 21, 34, 55, 89, 144, 233, 377, 610]\n"
     ]
    }
   ],
   "source": [
    "n1, n2 = 0, 1\n",
    "fib = []\n",
    "\n",
    "while n1 < 500:\n",
    "    n3 = n1 + n2\n",
    "    n1 = n2\n",
    "    n2 = n3\n",
    "    fib.append(n1)\n",
    "\n",
    "print(fib)"
   ]
  },
  {
   "cell_type": "markdown",
   "metadata": {},
   "source": [
    "### Exercício 17 - Faça um programa que calcule o fatorial de um número inteiro fornecido pelo usuário. Ex.: 5!=5.4.3.2.1=120"
   ]
  },
  {
   "cell_type": "code",
   "execution_count": 18,
   "metadata": {},
   "outputs": [
    {
     "name": "stdout",
     "output_type": "stream",
     "text": [
      "120\n"
     ]
    }
   ],
   "source": [
    "n1 = int(input('Insira um número :'))\n",
    "fatorial = 1\n",
    "\n",
    "for x in range(1,n1+1):\n",
    "    fatorial *= x\n",
    "\n",
    "print(fatorial)"
   ]
  },
  {
   "cell_type": "markdown",
   "metadata": {},
   "source": [
    "### Exercício 18 - Faça um programa que, dado um conjunto de N números, determine o menor valor, o maior valor e a soma dos valores."
   ]
  },
  {
   "cell_type": "code",
   "execution_count": 31,
   "metadata": {},
   "outputs": [
    {
     "name": "stdout",
     "output_type": "stream",
     "text": [
      "O menor valor é: 1.0\n",
      "O maior valor é: 5.0\n",
      "A soma dos valores é: 15.0\n"
     ]
    }
   ],
   "source": [
    "conjunto = int(input(\"Digite a quantidade de números no conjunto: \"))\n",
    "\n",
    "menor = float('inf')\n",
    "maior = float('-inf')\n",
    "soma = 0\n",
    "\n",
    "for num in range(conjunto):\n",
    "    numero  = float(input(f\"Digite o número {num+1}: \"))\n",
    "    if numero  < menor:\n",
    "        menor = numero \n",
    "    elif numero  > maior:\n",
    "        maior = numero \n",
    "    soma += numero \n",
    "\n",
    "print(f\"O menor valor é: {menor}\")\n",
    "print(f\"O maior valor é: {maior}\")\n",
    "print(f\"A soma dos valores é: {soma}\")"
   ]
  },
  {
   "cell_type": "markdown",
   "metadata": {},
   "source": [
    "### Exercício 19 - Altere o programa anterior para que ele aceite apenas números entre 0 e 1000."
   ]
  },
  {
   "cell_type": "code",
   "execution_count": 14,
   "metadata": {},
   "outputs": [
    {
     "name": "stdout",
     "output_type": "stream",
     "text": [
      "Número fora do intervalo permitido. Tente novamente.\n",
      "Número fora do intervalo permitido. Tente novamente.\n",
      "O menor valor é: 3.0\n",
      "O maior valor é: 67.0\n",
      "A soma dos valores é: 86.0\n"
     ]
    }
   ],
   "source": [
    "conjunto = int(input(\"Digite a quantidade de números no conjunto: \"))\n",
    "numeros = []\n",
    "\n",
    "for i in range(conjunto):\n",
    "    num = float(input(f\"Insira o número {i+1} (entre 0 e 1000): \"))\n",
    "    while num < 0 or num > 1000:\n",
    "        print(\"Número fora do intervalo permitido. Tente novamente.\")\n",
    "        num = float(input(f\"Insira o número {i+1} (entre 0 e 1000): \"))\n",
    "    numeros.append(num)\n",
    "\n",
    "menor = min(numeros)\n",
    "maior = max(numeros)\n",
    "soma = sum(numeros)\n",
    "\n",
    "print(f\"O menor valor é: {menor}\")\n",
    "print(f\"O maior valor é: {maior}\")\n",
    "print(f\"A soma dos valores é: {soma}\")\n"
   ]
  },
  {
   "cell_type": "markdown",
   "metadata": {},
   "source": [
    "### Exercício 20 - Altere o programa de cálculo do fatorial, permitindo ao usuário calcular o fatorial várias vezes e limitando o fatorial a números inteiros positivos e menores que 16."
   ]
  },
  {
   "cell_type": "code",
   "execution_count": 31,
   "metadata": {},
   "outputs": [
    {
     "name": "stdout",
     "output_type": "stream",
     "text": [
      "O fatorial de 1 é: 1\n",
      "O fatorial de 2 é: 2\n",
      "O fatorial de 3 é: 6\n",
      "O fatorial de 4 é: 24\n",
      "O fatorial de 5 é: 120\n",
      "O fatorial de 6 é: 720\n",
      "O fatorial de 7 é: 5040\n",
      "Encerrando o programa.\n"
     ]
    }
   ],
   "source": [
    "\n",
    "\n",
    "while True:\n",
    "    num = int(input(\"Digite um número inteiro positivo para calcular o fatorial ou um numero negativo para sair\"))\n",
    "\n",
    "    if num < 0:\n",
    "        print(\"Encerrando o programa.\")\n",
    "        break\n",
    "    elif num >= 16:\n",
    "        print(\"Número fora do intervalo permitido. Tente novamente.\")\n",
    "        continue\n",
    "    else:\n",
    "        resultado = 1\n",
    "        for x in range(1,num+1):\n",
    "            resultado *= x\n",
    "        print(f\"O fatorial de {num} é: {resultado}\")"
   ]
  },
  {
   "cell_type": "markdown",
   "metadata": {},
   "source": [
    "### Exercício 21 - Faça um programa que peça um número inteiro e determine se ele é ou não um número primo. Um número primo é aquele que é divisível somente por ele mesmo e por 1."
   ]
  },
  {
   "cell_type": "code",
   "execution_count": 44,
   "metadata": {},
   "outputs": [
    {
     "name": "stdout",
     "output_type": "stream",
     "text": [
      "O número 5 é primo.\n"
     ]
    }
   ],
   "source": [
    "num = int(input(\"Digite um número inteiro: \"))\n",
    "\n",
    "if num > 1:\n",
    "    for x in range(2, num):\n",
    "        if num % x == 0:\n",
    "            print(f\"O número {num} não é primo.\")\n",
    "            break\n",
    "    else:\n",
    "        print(f\"O número {num} é primo.\")\n",
    "else:\n",
    "    print(f\"O número {num} não é primo.\")"
   ]
  },
  {
   "cell_type": "markdown",
   "metadata": {},
   "source": [
    "### Exercício 22 - Altere o programa de cálculo dos números primos, informando, caso o número não seja primo, por quais número ele é divisível."
   ]
  },
  {
   "cell_type": "code",
   "execution_count": 47,
   "metadata": {},
   "outputs": [
    {
     "name": "stdout",
     "output_type": "stream",
     "text": [
      "O número 6 não é primo.\n",
      "Ele é divisivel por [2]\n"
     ]
    }
   ],
   "source": [
    "num = int(input(\"Digite um número inteiro: \"))\n",
    "divisores =[]\n",
    "\n",
    "if num > 1:\n",
    "    for x in range(2, num):\n",
    "        if num % x == 0:\n",
    "            divisores.append(x)\n",
    "            print(f\"O número {num} não é primo.\")\n",
    "            print(f\"Ele é divisivel por {divisores}\")\n",
    "            break\n",
    "    else:\n",
    "        print(f\"O número {num} é primo.\")\n",
    "else:\n",
    "    print(f\"O número {num} não é primo.\")"
   ]
  },
  {
   "cell_type": "markdown",
   "metadata": {},
   "source": [
    "### Exercício 23 - Faça um programa que mostre todos os primos entre 1 e N sendo N um número inteiro fornecido pelo usuário. O programa deverá mostrar também o número de divisões que ele executou para encontrar os números primos. Serão avaliados o funcionamento, o estilo e o número de testes (divisões) executados."
   ]
  },
  {
   "cell_type": "markdown",
   "metadata": {},
   "source": [
    "### Exercício 24 - Faça um programa que calcule o mostre a média aritmética de N notas."
   ]
  },
  {
   "cell_type": "code",
   "execution_count": 56,
   "metadata": {},
   "outputs": [
    {
     "name": "stdout",
     "output_type": "stream",
     "text": [
      "A média das 3 notas é: 3.00\n"
     ]
    }
   ],
   "source": [
    "n = int(input(\"Digite a quantidade de notas: \"))\n",
    "\n",
    "soma_notas = 0\n",
    "\n",
    "for i in range(n):\n",
    "    nota = float(input(f\"Digite a nota {i + 1}: \"))\n",
    "    soma_notas += nota\n",
    "\n",
    "if n > 0:\n",
    "    media = soma_notas / n\n",
    "    print(f\"A média das {n} notas é: {media:.2f}\")\n",
    "else:\n",
    "    print(\"Nenhuma nota foi inserida para cálculo da média.\")"
   ]
  },
  {
   "cell_type": "markdown",
   "metadata": {},
   "source": [
    "### Exercício 25 - Faça um programa que peça para n pessoas a sua idade, ao final o programa deverá verificar se a média de idade da turma varia entre 0 e 25,26 e 60 e maior que 60; e então, dizer se a turma é jovem, adulta ou idosa, conforme a média calculada."
   ]
  },
  {
   "cell_type": "code",
   "execution_count": null,
   "metadata": {},
   "outputs": [],
   "source": [
    "n = int(input(\"Digite a quantidade de pessoas: \"))\n",
    "\n",
    "idades = []\n",
    "soma_idades = 0\n",
    "\n",
    "for i in range(n):\n",
    "    idade = int(input(f\"Digite a idade da pessoa {i + 1}: \"))\n",
    "    idades.append(idade)\n",
    "    soma_idades += idade\n",
    "\n",
    "if n > 0:\n",
    "    media_idades = soma_idades / n\n",
    "\n",
    "    if media_idades <= 25:\n",
    "        print(\"A turma é classificada como JOVEM.\")\n",
    "    elif 26 <= media_idades <= 60:\n",
    "        print(\"A turma é classificada como ADULTA.\")\n",
    "    else:\n",
    "        print(\"A turma é classificada como IDOSA.\")\n",
    "else:\n",
    "    print(\"Nenhuma idade foi inserida para cálculo.\")"
   ]
  },
  {
   "cell_type": "markdown",
   "metadata": {},
   "source": [
    "### Exercício 26 - Numa eleição existem três candidatos. Faça um programa que peça o número total de eleitores. Peça para cada eleitor votar e ao final mostrar o número de votos de cada candidato."
   ]
  },
  {
   "cell_type": "code",
   "execution_count": 55,
   "metadata": {},
   "outputs": [
    {
     "name": "stdout",
     "output_type": "stream",
     "text": [
      "Eleitor 1:\n",
      "Vote nos candidatos:\n",
      "1 - Candidato 1\n",
      "2 - Candidato 2\n",
      "3 - Candidato 3\n",
      "Eleitor 2:\n",
      "Vote nos candidatos:\n",
      "1 - Candidato 1\n",
      "2 - Candidato 2\n",
      "3 - Candidato 3\n",
      "Eleitor 3:\n",
      "Vote nos candidatos:\n",
      "1 - Candidato 1\n",
      "2 - Candidato 2\n",
      "3 - Candidato 3\n",
      "Resultado da Eleição:\n",
      "Total de votos do Candidato 1: 0\n",
      "Total de votos do Candidato 2: 3\n",
      "Total de votos do Candidato 3: 0\n"
     ]
    }
   ],
   "source": [
    "num_eleitores = int(input(\"Digite o número total de eleitores: \"))\n",
    "\n",
    "candidato1 = 0\n",
    "candidato2 = 0\n",
    "candidato3 = 0\n",
    "\n",
    "for eleitor in range(1, num_eleitores + 1):\n",
    "    print(f\"Eleitor {eleitor}:\")\n",
    "    print(\"Vote nos candidatos:\")\n",
    "    print(\"1 - Candidato 1\")\n",
    "    print(\"2 - Candidato 2\")\n",
    "    print(\"3 - Candidato 3\")\n",
    "    voto = int(input(\"Seu voto: \"))\n",
    "\n",
    "    if voto == 1:\n",
    "        candidato1 += 1\n",
    "    elif voto == 2:\n",
    "        candidato2 += 1\n",
    "    elif voto == 3:\n",
    "        candidato3 += 1\n",
    "    else:\n",
    "        print(\"Voto inválido. Eleitor não votou.\")\n",
    "\n",
    "print(\"Resultado da Eleição:\")\n",
    "print(f\"Total de votos do Candidato 1: {candidato1}\")\n",
    "print(f\"Total de votos do Candidato 2: {candidato2}\")\n",
    "print(f\"Total de votos do Candidato 3: {candidato3}\")"
   ]
  },
  {
   "cell_type": "markdown",
   "metadata": {},
   "source": [
    "### Exercício 27 - Faça um programa que calcule o número médio de alunos por turma. Para isto, peça a quantidade de turmas e a quantidade de alunos para cada turma. As turmas não podem ter mais de 40 alunos."
   ]
  },
  {
   "cell_type": "code",
   "execution_count": 53,
   "metadata": {},
   "outputs": [
    {
     "name": "stdout",
     "output_type": "stream",
     "text": [
      "O número médio de alunos por turma é: 15.0\n"
     ]
    }
   ],
   "source": [
    "quantidade_turmas = int(input(\"Informe a quantidade de turmas: \"))\n",
    "\n",
    "total_alunos = 0\n",
    "contador_turmas = 0\n",
    "\n",
    "for turma in range(1, quantidade_turmas + 1):\n",
    "    quantidade_alunos = int(input(f\"Informe a quantidade de alunos na turma {turma}: \"))\n",
    "    \n",
    "    while quantidade_alunos > 40:\n",
    "        print(\"Uma turma não pode ter mais de 40 alunos.\")\n",
    "        quantidade_alunos = int(input(f\"Informe novamente a quantidade de alunos na turma {turma}: \"))\n",
    "\n",
    "    total_alunos += quantidade_alunos\n",
    "    contador_turmas += 1\n",
    "\n",
    "if contador_turmas > 0:\n",
    "    media_alunos = total_alunos / contador_turmas\n",
    "    print(f\"O número médio de alunos por turma é: {media_alunos}\")\n",
    "else:\n",
    "    print(\"Nenhuma informação de turmas foi fornecida.\")"
   ]
  },
  {
   "cell_type": "markdown",
   "metadata": {},
   "source": [
    "### Exercício 28 - Faça um programa que calcule o valor total investido por um colecionador em sua coleção de CDs e o valor médio gasto em cada um deles. O usuário deverá informar a quantidade de CDs e o valor para em cada um."
   ]
  },
  {
   "cell_type": "code",
   "execution_count": 52,
   "metadata": {},
   "outputs": [
    {
     "name": "stdout",
     "output_type": "stream",
     "text": [
      "O valor total investido na coleção de 5 CDs é de R$ 150.0\n",
      "O valor médio gasto em cada CD é de R$ 30.0\n"
     ]
    }
   ],
   "source": [
    "quantidade_cds = int(input(\"Informe a quantidade de CDs na coleção: \"))\n",
    "\n",
    "total_gasto = 0\n",
    "\n",
    "for cd in range(1, quantidade_cds + 1):\n",
    "    valor_cd = float(input(f\"Informe o valor do CD {cd}: R$ \"))\n",
    "    total_gasto += valor_cd\n",
    "\n",
    "if quantidade_cds > 0:\n",
    "    valor_medio = total_gasto / quantidade_cds\n",
    "else:\n",
    "    valor_medio = 0\n",
    "\n",
    "print(f\"O valor total investido na coleção de {quantidade_cds} CDs é de R$ {total_gasto}\")\n",
    "print(f\"O valor médio gasto em cada CD é de R$ {valor_medio}\")"
   ]
  },
  {
   "cell_type": "markdown",
   "metadata": {},
   "source": [
    "### Exercício 29 – O Sr. Manoel Joaquim possui uma grande loja de artigos de R$ 1,99, com cerca de 10 caixas. Para agilizar o cálculo de quanto cada cliente deve pagar ele desenvolveu uma tabela que contém o número de itens que o cliente comprou e ao lado o valor da conta. Desta forma a atendente do caixa precisa apenas contar quantos itens o cliente está levando e olhar na tabela de preços. Você foi contratado para desenvolver o programa que monta esta tabela de preços, que conterá os preços de 1 até 50 produtos, conforme o exemplo abaixo:"
   ]
  },
  {
   "cell_type": "code",
   "execution_count": 51,
   "metadata": {},
   "outputs": [
    {
     "name": "stdout",
     "output_type": "stream",
     "text": [
      "1 - R$ 1.99\n",
      "2 - R$ 3.98\n",
      "3 - R$ 5.97\n",
      "4 - R$ 7.96\n",
      "5 - R$ 9.95\n",
      "6 - R$ 11.94\n",
      "7 - R$ 13.93\n",
      "8 - R$ 15.92\n",
      "9 - R$ 17.91\n",
      "10 - R$ 19.90\n",
      "11 - R$ 21.89\n",
      "12 - R$ 23.88\n",
      "13 - R$ 25.87\n",
      "14 - R$ 27.86\n",
      "15 - R$ 29.85\n",
      "16 - R$ 31.84\n",
      "17 - R$ 33.83\n",
      "18 - R$ 35.82\n",
      "19 - R$ 37.81\n",
      "20 - R$ 39.80\n",
      "21 - R$ 41.79\n",
      "22 - R$ 43.78\n",
      "23 - R$ 45.77\n",
      "24 - R$ 47.76\n",
      "25 - R$ 49.75\n",
      "26 - R$ 51.74\n",
      "27 - R$ 53.73\n",
      "28 - R$ 55.72\n",
      "29 - R$ 57.71\n",
      "30 - R$ 59.70\n",
      "31 - R$ 61.69\n",
      "32 - R$ 63.68\n",
      "33 - R$ 65.67\n",
      "34 - R$ 67.66\n",
      "35 - R$ 69.65\n",
      "36 - R$ 71.64\n",
      "37 - R$ 73.63\n",
      "38 - R$ 75.62\n",
      "39 - R$ 77.61\n",
      "40 - R$ 79.60\n",
      "41 - R$ 81.59\n",
      "42 - R$ 83.58\n",
      "43 - R$ 85.57\n",
      "44 - R$ 87.56\n",
      "45 - R$ 89.55\n",
      "46 - R$ 91.54\n",
      "47 - R$ 93.53\n",
      "48 - R$ 95.52\n",
      "49 - R$ 97.51\n",
      "50 - R$ 99.50\n"
     ]
    }
   ],
   "source": [
    "preco_item = 1.99 \n",
    "\n",
    "for quantidade in range(1, 51):\n",
    "    valor_total = preco_item * quantidade\n",
    "    print(f\"{quantidade} - R$ {valor_total:.2f}\")"
   ]
  },
  {
   "cell_type": "markdown",
   "metadata": {},
   "source": [
    "### Exercício 30 - O Sr. Manoel Joaquim acaba de adquirir uma panificadora e pretende implantar a metodologia da tabelinha, que já é um sucesso na sua loja de 1,99. Você foi contratado para desenvolver o programa que monta a tabela de preços de pães, de 1 até 50 pães, a partir do preço do pão informado pelo usuário, conforme o exemplo abaixo:"
   ]
  },
  {
   "cell_type": "code",
   "execution_count": 50,
   "metadata": {},
   "outputs": [
    {
     "name": "stdout",
     "output_type": "stream",
     "text": [
      "1 pães - R$ 1.00\n",
      "2 pães - R$ 2.00\n",
      "3 pães - R$ 3.00\n",
      "4 pães - R$ 4.00\n",
      "5 pães - R$ 5.00\n",
      "6 pães - R$ 6.00\n",
      "7 pães - R$ 7.00\n",
      "8 pães - R$ 8.00\n",
      "9 pães - R$ 9.00\n",
      "10 pães - R$ 10.00\n",
      "11 pães - R$ 11.00\n",
      "12 pães - R$ 12.00\n",
      "13 pães - R$ 13.00\n",
      "14 pães - R$ 14.00\n",
      "15 pães - R$ 15.00\n",
      "16 pães - R$ 16.00\n",
      "17 pães - R$ 17.00\n",
      "18 pães - R$ 18.00\n",
      "19 pães - R$ 19.00\n",
      "20 pães - R$ 20.00\n",
      "21 pães - R$ 21.00\n",
      "22 pães - R$ 22.00\n",
      "23 pães - R$ 23.00\n",
      "24 pães - R$ 24.00\n",
      "25 pães - R$ 25.00\n",
      "26 pães - R$ 26.00\n",
      "27 pães - R$ 27.00\n",
      "28 pães - R$ 28.00\n",
      "29 pães - R$ 29.00\n",
      "30 pães - R$ 30.00\n",
      "31 pães - R$ 31.00\n",
      "32 pães - R$ 32.00\n",
      "33 pães - R$ 33.00\n",
      "34 pães - R$ 34.00\n",
      "35 pães - R$ 35.00\n",
      "36 pães - R$ 36.00\n",
      "37 pães - R$ 37.00\n",
      "38 pães - R$ 38.00\n",
      "39 pães - R$ 39.00\n",
      "40 pães - R$ 40.00\n",
      "41 pães - R$ 41.00\n",
      "42 pães - R$ 42.00\n",
      "43 pães - R$ 43.00\n",
      "44 pães - R$ 44.00\n",
      "45 pães - R$ 45.00\n",
      "46 pães - R$ 46.00\n",
      "47 pães - R$ 47.00\n",
      "48 pães - R$ 48.00\n",
      "49 pães - R$ 49.00\n",
      "50 pães - R$ 50.00\n"
     ]
    }
   ],
   "source": [
    "preco_pao = float(input(\"Digite o preço do pão: \"))\n",
    "\n",
    "for quantidade in range(1, 51):\n",
    "    preco_total = preco_pao * quantidade\n",
    "    print(f\"{quantidade} pães - R$ {preco_total:.2f}\")"
   ]
  },
  {
   "cell_type": "markdown",
   "metadata": {},
   "source": [
    "### Exercício 31 - O Sr. Manoel Joaquim expandiu seus negócios para além dos negócios de 1,99 e agora possui uma loja de conveniências. Faça um programa que implemente uma caixa registradora rudimentar. O programa deverá receber um número desconhecido de valores referentes aos preços das mercadorias. Um valor zero deve ser informado pelo operador para indicar o final da compra. O programa deve então mostrar o total da compra e perguntar o valor em dinheiro que o cliente forneceu, para então calcular e mostrar o valor do troco. Após esta operação, o programa deverá voltar ao ponto inicial, para registrar a próxima compra. A saída deve ser conforme o exemplo abaixo:"
   ]
  },
  {
   "cell_type": "code",
   "execution_count": 48,
   "metadata": {},
   "outputs": [
    {
     "name": "stdout",
     "output_type": "stream",
     "text": [
      "Total da compra: R$ 15.0\n",
      "Troco: R$ 35.00\n"
     ]
    }
   ],
   "source": [
    "while True:\n",
    "    total = 0.0\n",
    "\n",
    "    while True:\n",
    "        preco = float(input(\"Digite o preço do produto (digite 0 para encerrar a compra): \"))\n",
    "        if preco == 0:\n",
    "            break\n",
    "        total += preco\n",
    "\n",
    "    print(f\"Total da compra: R$ {total}\")\n",
    "\n",
    "    dinheiro_cliente = float(input(\"Digite o valor em dinheiro fornecido pelo cliente: \"))\n",
    "    troco = dinheiro_cliente - total\n",
    "\n",
    "    if troco < 0:\n",
    "        print(\"O valor fornecido é insuficiente para pagar a compra.\")\n",
    "    else:\n",
    "        print(f\"Troco: R$ {troco:.2f}\")\n",
    "\n",
    "    reiniciar = input(\"Deseja registrar uma nova compra? (S/N): \").upper()\n",
    "    if reiniciar != 'S':\n",
    "        break"
   ]
  }
 ],
 "metadata": {
  "kernelspec": {
   "display_name": "Python 3",
   "language": "python",
   "name": "python3"
  },
  "language_info": {
   "codemirror_mode": {
    "name": "ipython",
    "version": 3
   },
   "file_extension": ".py",
   "mimetype": "text/x-python",
   "name": "python",
   "nbconvert_exporter": "python",
   "pygments_lexer": "ipython3",
   "version": "3.11.6"
  }
 },
 "nbformat": 4,
 "nbformat_minor": 2
}
