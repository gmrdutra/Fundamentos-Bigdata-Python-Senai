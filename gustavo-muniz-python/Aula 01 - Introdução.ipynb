{
 "cells": [
  {
   "cell_type": "markdown",
   "metadata": {},
   "source": [
    "#### Criando uma mensagem no console \n",
    "\n",
    "#### Markdown é um texto que não é reconhecido pela linguagem\n",
    "\n",
    "#### Executar - CTRL + ENTER\n",
    "\n",
    "#### Comandos de Entrada/Saída\n",
    "    INPUT   - Entrada\n",
    "    PRINT   - Saída\n",
    "\n",
    "##### Tipos de Variaveis\n",
    "    String  - str     -  Textos\n",
    "    Float   - float   -  Números decimais\n",
    "    Int     - int     -  Números inteiros\n",
    "    Boolean - boll    -  True/False\n",
    "    Complex - complex - Números imaginários\n",
    "\n",
    "#### Operadores Aritméticos \n",
    "    +   - Adição\n",
    "    -   - Subtração \n",
    "    *   - Multiplicação\n",
    "    /   - Divisão\n",
    "    **  - Exponenciação\n",
    "    %   - Resto da divisão\n",
    "\n",
    "#### Operadores relacionais \n",
    "    ==  - Igual\n",
    "    >   - Maior\n",
    "    <   - Menor\n",
    "    >=  - Maior ou igual\n",
    "    <=  - Menos ou igual\n",
    "    !=  - Diferente\n",
    "\n",
    "#### Boas práticas para criar nomes de variáveis\n",
    "    Camel Case -> salarioBruto\n",
    "    Scanke Case -> salario_bruto"
   ]
  },
  {
   "cell_type": "code",
   "execution_count": 3,
   "metadata": {},
   "outputs": [
    {
     "name": "stdout",
     "output_type": "stream",
     "text": [
      "Hello, baby !\n"
     ]
    }
   ],
   "source": [
    "print(\"Hello, baby !\")"
   ]
  },
  {
   "cell_type": "markdown",
   "metadata": {},
   "source": [
    "### Exercício 01\n",
    "\n",
    "#### Crie um programa para receber dois valores e em seguida, exiba o valor da soma."
   ]
  },
  {
   "cell_type": "code",
   "execution_count": 5,
   "metadata": {},
   "outputs": [
    {
     "name": "stdout",
     "output_type": "stream",
     "text": [
      "A soma dos números é: 31\n"
     ]
    }
   ],
   "source": [
    "# Criando as variáveis e atribuindo valores a elas\n",
    "num1 = 20\n",
    "num2 = 5\n",
    "num3 = 6\n",
    "\n",
    "# Somando os valores das 3 variáveis criadas\n",
    "soma = num1 + num2 + num3\n",
    "\n",
    "print(\"A soma dos números é:\",soma)"
   ]
  },
  {
   "cell_type": "markdown",
   "metadata": {},
   "source": [
    "### Exercício 10 \n",
    "\n",
    "#### Faça um programa que converta metros para centímetros."
   ]
  },
  {
   "cell_type": "code",
   "execution_count": 20,
   "metadata": {},
   "outputs": [
    {
     "name": "stdout",
     "output_type": "stream",
     "text": [
      "O resultado da conversão de 20.0 metros em centrimentos é igual a 2000.0\n"
     ]
    }
   ],
   "source": [
    "metros = input(\"Digite um valor para conversão de metros para centimetros:\")\n",
    "metros = float(metros)\n",
    "centimetros = metros * 100\n",
    "print(\"O resultado da conversão de\", metros, \"metros em centrimentos é igual a\",centimetros)"
   ]
  },
  {
   "cell_type": "markdown",
   "metadata": {},
   "source": [
    "### Exercício 11  \n",
    "\n",
    "#### Faça um programa que peça o raio de um círculo, calcule e mostre sua área."
   ]
  },
  {
   "cell_type": "code",
   "execution_count": 35,
   "metadata": {},
   "outputs": [
    {
     "name": "stdout",
     "output_type": "stream",
     "text": [
      "A área do círculo com raio igual a 10.0 mm é igual a: 314.0 m²\n"
     ]
    }
   ],
   "source": [
    "raio = input (\"Digite o valor do raio do círculo em mm:\")\n",
    "raio = float (raio)\n",
    "area = 3.14 * raio ** 2\n",
    "\n",
    "print(\"A área do círculo com raio igual a\",raio,\"mm é igual a:\", area,\"mm²\")"
   ]
  },
  {
   "cell_type": "markdown",
   "metadata": {},
   "source": [
    "### Exercício 12 \n",
    "\n",
    "#### Faça um programa que calcule a área de um quadrado, em seguida mostre o dobro desta área para o usuário."
   ]
  },
  {
   "cell_type": "code",
   "execution_count": 26,
   "metadata": {},
   "outputs": [
    {
     "name": "stdout",
     "output_type": "stream",
     "text": [
      "A area do quadrado é igual a : 100.0  e o dobro desta area é igual : 200.0\n"
     ]
    }
   ],
   "source": [
    "lado = input (\"Digite o valor do lado do quadrado em cm:\")\n",
    "lado = float (lado)\n",
    "area = lado**2\n",
    "dobro = area*2\n",
    "\n",
    "print(\"A area do quadrado é igual a :\",area,\" e o dobro desta area é igual :\",dobro)"
   ]
  },
  {
   "cell_type": "markdown",
   "metadata": {},
   "source": [
    "### Exercício 13 \n",
    "\n",
    "#### Faça um Programa que pergunte quanto você ganha por hora e o número de horas trabalhadas no mês. Calcule e mostre o total do seu salário no referido mês."
   ]
  },
  {
   "cell_type": "code",
   "execution_count": 34,
   "metadata": {},
   "outputs": [
    {
     "name": "stdout",
     "output_type": "stream",
     "text": [
      "O seu salário esse mês é de R$  100.0, pois você ganha R$ 10.0 por hora trabalha e trabalhou 10.0 horas\n"
     ]
    }
   ],
   "source": [
    "ganho = input (\"Quanto você ganha por hora ? \")\n",
    "horas = input (\"Qual a quantidade de horas trabalhadas no mês ?\")\n",
    "ganho = float (ganho)\n",
    "horas = float (horas)\n",
    "\n",
    "total = ganho*horas\n",
    "\n",
    "print(f\"O seu salário esse mês é de R$  {total}, pois você ganha R$ {ganho} por hora trabalhada e trabalhou {horas} horas esse mês\")\n"
   ]
  },
  {
   "cell_type": "markdown",
   "metadata": {},
   "source": [
    "### Exercício 14 \n",
    "\n",
    "#### Faça um programa que peça a temperatura em graus Fahrenheit, transforme e mostre a temperatura em graus Celsius."
   ]
  },
  {
   "cell_type": "code",
   "execution_count": 42,
   "metadata": {},
   "outputs": [
    {
     "name": "stdout",
     "output_type": "stream",
     "text": [
      "A temperatura de 10.0 Fahrenheit é igual a -12.222222222222221 Celsius\n"
     ]
    }
   ],
   "source": [
    "temp = input (\"Inserir a temperatura em Fahrenheit :\")\n",
    "temp = float (temp)\n",
    "\n",
    "calc = (temp-32)/1.8\n",
    "calc = float(calc)\n",
    "\n",
    "print(f\"A temperatura de {temp} Fahrenheit é igual a {calc} Celsius\")"
   ]
  },
  {
   "cell_type": "code",
   "execution_count": 36,
   "metadata": {},
   "outputs": [
    {
     "name": "stderr",
     "output_type": "stream",
     "text": [
      "c:\\Python311\\Lib\\site-packages\\numpy\\_distributor_init.py:30: UserWarning: loaded more than 1 DLL from .libs:\n",
      "c:\\Python311\\Lib\\site-packages\\numpy\\.libs\\libopenblas64__v0.3.21-gcc_10_3_0.dll\n",
      "c:\\Python311\\Lib\\site-packages\\numpy\\.libs\\libopenblas64__v0.3.23-246-g3d31191b-gcc_10_3_0.dll\n",
      "  warnings.warn(\"loaded more than 1 DLL from .libs:\"\n"
     ]
    },
    {
     "data": {
      "text/plain": [
       "3.141592653589793"
      ]
     },
     "execution_count": 36,
     "metadata": {},
     "output_type": "execute_result"
    }
   ],
   "source": [
    "# Carregar a biblioteca para utilizar o valor do PI completo \n",
    "import numpy as np\n",
    "\n",
    "np.pi"
   ]
  },
  {
   "cell_type": "markdown",
   "metadata": {},
   "source": [
    "### Exercício 15 \n",
    "\n",
    "#### Faça um Programa que peça a temperatura em graus Celsius, transforme e mostre em graus Fahrenheit."
   ]
  },
  {
   "cell_type": "code",
   "execution_count": 43,
   "metadata": {},
   "outputs": [
    {
     "name": "stdout",
     "output_type": "stream",
     "text": [
      "A temperatura de 10.0 Celsius é igual a 50.0 Fahrenheit\n"
     ]
    }
   ],
   "source": [
    "temp = input (\"Inserir a temperatura em Celsius :\")\n",
    "temp = float (temp)\n",
    "\n",
    "calc = (temp*1.8)+32\n",
    "calc = float(calc)\n",
    "\n",
    "print(f\"A temperatura de {temp} Celsius é igual a {calc} Fahrenheit\")"
   ]
  },
  {
   "cell_type": "code",
   "execution_count": null,
   "metadata": {},
   "outputs": [],
   "source": []
  },
  {
   "cell_type": "markdown",
   "metadata": {},
   "source": []
  }
 ],
 "metadata": {
  "kernelspec": {
   "display_name": "Python 3",
   "language": "python",
   "name": "python3"
  },
  "language_info": {
   "codemirror_mode": {
    "name": "ipython",
    "version": 3
   },
   "file_extension": ".py",
   "mimetype": "text/x-python",
   "name": "python",
   "nbconvert_exporter": "python",
   "pygments_lexer": "ipython3",
   "version": "3.11.0"
  }
 },
 "nbformat": 4,
 "nbformat_minor": 2
}
