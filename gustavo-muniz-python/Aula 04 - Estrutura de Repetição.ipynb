{
 "cells": [
  {
   "cell_type": "markdown",
   "metadata": {},
   "source": [
    "### Exercício 01 – Faça um programa que peça uma nota, entre zero e dez. Mostre uma mensagem caso o valor seja inválido e continue pedindo até que o usuário informe um valor válido."
   ]
  },
  {
   "cell_type": "code",
   "execution_count": 5,
   "metadata": {},
   "outputs": [
    {
     "name": "stdout",
     "output_type": "stream",
     "text": [
      "Numero informado não está entre 0 e 10. Insira um novo número :\n",
      "Numero informado não está entre 0 e 10. Insira um novo número :\n",
      "Numero informado não está entre 0 e 10. Insira um novo número :\n",
      "Numero informado não está entre 0 e 10. Insira um novo número :\n",
      "Numero informado não está entre 0 e 10. Insira um novo número :\n",
      "Numero informado não está entre 0 e 10. Insira um novo número :\n",
      "Numero informado não está entre 0 e 10. Insira um novo número :\n",
      "Numero informado não está entre 0 e 10. Insira um novo número :\n",
      "Numero informado não está entre 0 e 10. Insira um novo número :\n",
      "Numero informado não está entre 0 e 10. Insira um novo número :\n",
      "Numero informado não está entre 0 e 10. Insira um novo número :\n"
     ]
    }
   ],
   "source": [
    "n1 = int(input(\"Insira uma nota entre ZERO e DEZ :\"))\n",
    "\n",
    "for n1 in range (0,10) :\n",
    "    \n",
    "    if n1 == intervalo:\n",
    "        print(f\"Numero {n1} está entre 0 e 10.\")\n",
    "        break\n",
    "    else :\n",
    "        print(\"Numero informado não está entre 0 e 10. Insira um novo número :\")\n",
    "\n"
   ]
  },
  {
   "cell_type": "markdown",
   "metadata": {},
   "source": [
    "### Exercício 06\n",
    "Faça um programa que imprima na tela os números de 1 a 20, um abaixo do outro. Depois modifique o programa para que ele mostre os números um ao lado do outro."
   ]
  },
  {
   "cell_type": "code",
   "execution_count": 7,
   "metadata": {},
   "outputs": [
    {
     "name": "stdout",
     "output_type": "stream",
     "text": [
      "1\n",
      "2\n",
      "3\n",
      "4\n",
      "5\n",
      "6\n",
      "7\n",
      "8\n",
      "9\n",
      "10\n",
      "11\n",
      "12\n",
      "13\n",
      "14\n",
      "15\n",
      "16\n",
      "17\n",
      "18\n",
      "19\n",
      "20\n"
     ]
    }
   ],
   "source": [
    "numero = range (1,21)\n",
    "\n",
    "for num in numero:\n",
    "    print(num)"
   ]
  },
  {
   "cell_type": "code",
   "execution_count": 9,
   "metadata": {},
   "outputs": [
    {
     "name": "stdout",
     "output_type": "stream",
     "text": [
      "[1, 2, 3, 4, 5, 6, 7, 8, 9, 10, 11, 12, 13, 14, 15, 16, 17, 18, 19, 20]\n"
     ]
    }
   ],
   "source": [
    "numero = range(1, 21)\n",
    "\n",
    "# lista vazia\n",
    "valores = []\n",
    "\n",
    "for num in numero:\n",
    "    valores.append(num)\n",
    "print(valores)\n"
   ]
  },
  {
   "cell_type": "markdown",
   "metadata": {},
   "source": [
    "### Exercício 07 - Faça um programa que leia 5 números e informe o maior número."
   ]
  },
  {
   "cell_type": "code",
   "execution_count": 10,
   "metadata": {},
   "outputs": [
    {
     "name": "stdout",
     "output_type": "stream",
     "text": [
      "Os valores informados foram: [5, 7, 9, 10, 15]\n",
      "O maior número informado foi 15\n"
     ]
    }
   ],
   "source": [
    "numero = range(1, 6)\n",
    "valores = []\n",
    "maior = 0\n",
    "\n",
    "for num in numero:\n",
    "    n1 = int(input(f\"Insira o {num}º numero :\"))\n",
    "    valores.append(n1)\n",
    "    if n1 >= maior:\n",
    "        maior = n1\n",
    "\n",
    "print(f\"Os valores informados foram: {valores}\")\n",
    "print(f\"O maior número informado foi {maior}\")\n",
    "\n",
    "\n"
   ]
  },
  {
   "cell_type": "markdown",
   "metadata": {},
   "source": [
    "### Exercício 08 - Faça um programa que leia 5 números e informe a soma e a média dos números."
   ]
  },
  {
   "cell_type": "code",
   "execution_count": 11,
   "metadata": {},
   "outputs": [
    {
     "name": "stdout",
     "output_type": "stream",
     "text": [
      "Os valores informados foram: [5, 4, 9, 8, 10]\n",
      "A soma dos números é 36\n",
      "A média dos números é 7.2\n"
     ]
    }
   ],
   "source": [
    "numero = range(1,6)\n",
    "valores = []\n",
    "soma = 0\n",
    "media = 0\n",
    "\n",
    "for num in numero:\n",
    "    n = int(input(f\"Insira o {num}º número\"))\n",
    "    valores.append(n)\n",
    "    soma = soma + n\n",
    "\n",
    "media = (soma)/num\n",
    "\n",
    "print(f\"Os valores informados foram: {valores}\")\n",
    "print(f\"A soma dos números é {soma}\")\n",
    "print(f\"A média dos números é {media}\")\n",
    "\n"
   ]
  },
  {
   "cell_type": "markdown",
   "metadata": {},
   "source": [
    "### Exercício 09 - Faça um programa que imprima na tela apenas os números ímpares entre 1 e 50."
   ]
  },
  {
   "cell_type": "code",
   "execution_count": 17,
   "metadata": {},
   "outputs": [
    {
     "name": "stdout",
     "output_type": "stream",
     "text": [
      "Os valores informados foram: [1, 3, 5, 7, 9, 11, 13, 15, 17, 19, 21, 23, 25, 27, 29, 31, 33, 35, 37, 39, 41, 43, 45, 47, 49]\n"
     ]
    }
   ],
   "source": [
    "numero = range(1,51)\n",
    "valores = []\n",
    "\n",
    "for num in numero:\n",
    "    if (num % 2 != 0):\n",
    "        valores.append(num)\n",
    "\n",
    "print(f\"Os valores informados foram: {valores}\")"
   ]
  },
  {
   "cell_type": "markdown",
   "metadata": {},
   "source": [
    "### Exercício 10 - Faça um programa que receba dois números inteiros e gere os números inteiros que estão no intervalo compreendido por eles."
   ]
  },
  {
   "cell_type": "markdown",
   "metadata": {},
   "source": []
  }
 ],
 "metadata": {
  "kernelspec": {
   "display_name": "Python 3",
   "language": "python",
   "name": "python3"
  },
  "language_info": {
   "codemirror_mode": {
    "name": "ipython",
    "version": 3
   },
   "file_extension": ".py",
   "mimetype": "text/x-python",
   "name": "python",
   "nbconvert_exporter": "python",
   "pygments_lexer": "ipython3",
   "version": "3.11.0"
  }
 },
 "nbformat": 4,
 "nbformat_minor": 2
}
