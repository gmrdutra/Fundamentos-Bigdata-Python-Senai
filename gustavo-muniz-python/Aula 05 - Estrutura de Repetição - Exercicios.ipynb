{
 "cells": [
  {
   "cell_type": "markdown",
   "metadata": {},
   "source": [
    "### Exercício 01 – Faça um programa que peça uma nota, entre zero e dez. Mostre uma mensagem caso o valor seja inválido e continue pedindo até que o usuário informe um valor válido."
   ]
  },
  {
   "cell_type": "code",
   "execution_count": 124,
   "metadata": {},
   "outputs": [
    {
     "name": "stdout",
     "output_type": "stream",
     "text": [
      "Nota 60.0 inserida é inválida !\n",
      "Nota 11.0 inserida é inválida !\n",
      "Nota 12.0 inserida é inválida !\n",
      "Nota 13.0 inserida é inválida !\n",
      "Nota 14.0 inserida é inválida !\n",
      "Nota 15.0 inserida é inválida !\n",
      "Nota 60.0 inserida é inválida !\n",
      "Nota 5.0 inserida com sucesso !\n"
     ]
    }
   ],
   "source": [
    "nota = float(input('Insira uma nota entre 0 e 10 :'))\n",
    "while True :\n",
    "    if nota >=0 and nota<=10:\n",
    "        print(f'Nota {nota} inserida com sucesso !')\n",
    "        break\n",
    "    else:\n",
    "        print(f'Nota {nota} inserida é inválida !')\n",
    "        nota = float(input('Insira uma nota entre 0 e 10 :'))\n"
   ]
  },
  {
   "cell_type": "markdown",
   "metadata": {},
   "source": [
    "### Exercício 02 - Faça um programa que leia um nome de usuário e a sua senha e não aceite a senha igual ao nome do usuário, mostrando uma mensagem de erro e voltando a pedir as informações."
   ]
  },
  {
   "cell_type": "code",
   "execution_count": 98,
   "metadata": {},
   "outputs": [
    {
     "name": "stdout",
     "output_type": "stream",
     "text": [
      "ERRO !\n",
      "ERRO !\n",
      "ERRO !\n"
     ]
    }
   ],
   "source": [
    "nome = str(input('Insira o nome de usuário :'))\n",
    "senha = str(input('Insira a senha :'))\n",
    "\n",
    "for x in nome:\n",
    "    if nome != senha :\n",
    "        print('Login e Senha inserido com sucesso')\n",
    "        break\n",
    "    else :\n",
    "        print('ERRO !')\n",
    "        nome = str(input('Insira o nome de usuário :'))\n",
    "        senha = str(input('Insira a senha :'))\n"
   ]
  },
  {
   "cell_type": "code",
   "execution_count": 102,
   "metadata": {},
   "outputs": [
    {
     "name": "stdout",
     "output_type": "stream",
     "text": [
      "ERRO !\n",
      "Login e Senha inserido com sucesso\n"
     ]
    }
   ],
   "source": [
    "nome = str(input('Insira o nome de usuário :')).lower()\n",
    "senha = str(input('Insira a senha :')).lower()\n",
    "\n",
    "\n",
    "while nome == senha:\n",
    "    print('ERRO !')\n",
    "    nome = str(input('Insira o nome de usuário :'))\n",
    "    senha = str(input('Insira a senha :'))\n",
    "\n",
    "print('Login e Senha inserido com sucesso')"
   ]
  },
  {
   "cell_type": "markdown",
   "metadata": {},
   "source": [
    "### Exercício 03 - Faça um programa que leia e valide as seguintes informações:\n",
    "    a) Nome: maior que 3 caracteres;\n",
    "    b) Idade: entre 0 e 150;\n",
    "    c) Salário: maior que zero;\n",
    "    d) Sexo: 'f' ou 'm';\n",
    "    e) Estado Civil: 's', 'c', 'v', 'd'"
   ]
  },
  {
   "cell_type": "code",
   "execution_count": null,
   "metadata": {},
   "outputs": [],
   "source": []
  },
  {
   "cell_type": "markdown",
   "metadata": {},
   "source": [
    "### Exercício 06\n",
    "Faça um programa que imprima na tela os números de 1 a 20, um abaixo do outro. Depois modifique o programa para que ele mostre os números um ao lado do outro."
   ]
  },
  {
   "cell_type": "code",
   "execution_count": 7,
   "metadata": {},
   "outputs": [
    {
     "name": "stdout",
     "output_type": "stream",
     "text": [
      "1\n",
      "2\n",
      "3\n",
      "4\n",
      "5\n",
      "6\n",
      "7\n",
      "8\n",
      "9\n",
      "10\n",
      "11\n",
      "12\n",
      "13\n",
      "14\n",
      "15\n",
      "16\n",
      "17\n",
      "18\n",
      "19\n",
      "20\n"
     ]
    }
   ],
   "source": [
    "numero = range (1,21)\n",
    "\n",
    "for num in numero:\n",
    "    print(num)"
   ]
  },
  {
   "cell_type": "code",
   "execution_count": 9,
   "metadata": {},
   "outputs": [
    {
     "name": "stdout",
     "output_type": "stream",
     "text": [
      "[1, 2, 3, 4, 5, 6, 7, 8, 9, 10, 11, 12, 13, 14, 15, 16, 17, 18, 19, 20]\n"
     ]
    }
   ],
   "source": [
    "numero = range(1, 21)\n",
    "\n",
    "# lista vazia\n",
    "valores = []\n",
    "\n",
    "for num in numero:\n",
    "    valores.append(num)\n",
    "print(valores)\n"
   ]
  },
  {
   "cell_type": "markdown",
   "metadata": {},
   "source": [
    "### Exercício 07 - Faça um programa que leia 5 números e informe o maior número."
   ]
  },
  {
   "cell_type": "code",
   "execution_count": 62,
   "metadata": {},
   "outputs": [
    {
     "name": "stdout",
     "output_type": "stream",
     "text": [
      "Os valores informados foram: [1, 2, 3, 4, 5]\n",
      "O maior número informado foi 5\n"
     ]
    }
   ],
   "source": [
    "valores = []\n",
    "\n",
    "for num in range(1, 6):\n",
    "    n1 = int(input(f\"Insira o {num}º numero :\"))\n",
    "    valores.append(n1)\n",
    "\n",
    "\n",
    "print(f\"Os valores informados foram: {valores}\")\n",
    "print('O maior número informado foi', max(valores))\n",
    "\n",
    "\n"
   ]
  },
  {
   "cell_type": "markdown",
   "metadata": {},
   "source": [
    "### Exercício 08 - Faça um programa que leia 5 números e informe a soma e a média dos números."
   ]
  },
  {
   "cell_type": "code",
   "execution_count": 79,
   "metadata": {},
   "outputs": [
    {
     "name": "stdout",
     "output_type": "stream",
     "text": [
      "Os valores informados foram: [1, 2, 3, 4, 5]\n",
      "A soma dos números é 15\n",
      "A média dos números é 3.0\n"
     ]
    }
   ],
   "source": [
    "numero = range(1,6)\n",
    "valores = []\n",
    "media = 0\n",
    "\n",
    "for num in numero:\n",
    "    n = int(input(f\"Insira o {num}º número\"))\n",
    "    valores.append(n)\n",
    "\n",
    "\n",
    "soma = sum(valores)\n",
    "\n",
    "qtd = len(valores)\n",
    "\n",
    "media = soma/qtd\n",
    "\n",
    "print(f\"Os valores informados foram: {valores}\")\n",
    "print('A soma dos números é',soma)\n",
    "print('A média dos números é', media)\n",
    "\n"
   ]
  },
  {
   "cell_type": "markdown",
   "metadata": {},
   "source": [
    "### Exercício 09 - Faça um programa que imprima na tela apenas os números ímpares entre 1 e 50."
   ]
  },
  {
   "cell_type": "code",
   "execution_count": 17,
   "metadata": {},
   "outputs": [
    {
     "name": "stdout",
     "output_type": "stream",
     "text": [
      "Os valores informados foram: [1, 3, 5, 7, 9, 11, 13, 15, 17, 19, 21, 23, 25, 27, 29, 31, 33, 35, 37, 39, 41, 43, 45, 47, 49]\n"
     ]
    }
   ],
   "source": [
    "numero = range(1,51)\n",
    "valores = []\n",
    "\n",
    "for num in numero:\n",
    "    if (num % 2 != 0):\n",
    "        valores.append(num)\n",
    "\n",
    "print(f\"Os valores informados foram: {valores}\")"
   ]
  },
  {
   "cell_type": "markdown",
   "metadata": {},
   "source": [
    "### Exercício 10 - Faça um programa que receba dois números inteiros e gere os números inteiros que estão no intervalo compreendido por eles."
   ]
  },
  {
   "cell_type": "code",
   "execution_count": 100,
   "metadata": {},
   "outputs": [
    {
     "name": "stdout",
     "output_type": "stream",
     "text": [
      "[1, 2, 3, 4, 5]\n"
     ]
    }
   ],
   "source": [
    "n1 = int(input(\"Insira o 1º número inteiro\")) \n",
    "n2 = int(input(\"Insira o 2º número inteiro\")) \n",
    "\n",
    "maior = max(n1,n2)\n",
    "menor = min(n1,n2)\n",
    "intervalo= []\n",
    "\n",
    "for num in range (menor,maior+1):\n",
    "        intervalo.append(num)\n",
    "        \n",
    "print(intervalo)"
   ]
  },
  {
   "cell_type": "markdown",
   "metadata": {},
   "source": [
    "### Exercício 11 - Altere o programa anterior para mostrar no final a soma dos números."
   ]
  },
  {
   "cell_type": "code",
   "execution_count": 141,
   "metadata": {},
   "outputs": [
    {
     "name": "stdout",
     "output_type": "stream",
     "text": [
      "10\n",
      "10\n"
     ]
    }
   ],
   "source": [
    "n1 = int(input(\"Insira o 1º número inteiro\")) \n",
    "n2 = int(input(\"Insira o 2º número inteiro\")) \n",
    "\n",
    "maior = max(n1,n2)\n",
    "menor = min(n1,n2)\n",
    "soma = 0\n",
    "intervalo= []\n",
    "\n",
    "for num in range (menor,maior+1):\n",
    "        soma += num\n",
    "        intervalo.append(num)\n",
    "\n",
    "print(sum(intervalo))\n",
    "print(soma)"
   ]
  },
  {
   "cell_type": "markdown",
   "metadata": {},
   "source": [
    "### Exercício 12 - Desenvolva um gerador de tabuada, capaz de gerar a tabuada de qualquer número inteiro entre 1 a 10. O usuário deve informar de qual numero ele deseja ver a tabuada. A saída deve ser conforme o exemplo abaixo:"
   ]
  },
  {
   "cell_type": "code",
   "execution_count": 144,
   "metadata": {},
   "outputs": [
    {
     "name": "stdout",
     "output_type": "stream",
     "text": [
      "7 x 1 = 7\n",
      "7 x 2 = 14\n",
      "7 x 3 = 21\n",
      "7 x 4 = 28\n",
      "7 x 5 = 35\n",
      "7 x 6 = 42\n",
      "7 x 7 = 49\n",
      "7 x 8 = 56\n",
      "7 x 9 = 63\n",
      "7 x 10 = 70\n"
     ]
    }
   ],
   "source": [
    "numero = int(input(\"Insira o numero entre 1 e 10 que deseja ver a tabuada\"))\n",
    "\n",
    "for x in range(1,11):\n",
    "        multiplicacao = x * numero\n",
    "        print(f'{numero} x {x} = {multiplicacao}')\n",
    "\n"
   ]
  }
 ],
 "metadata": {
  "kernelspec": {
   "display_name": "Python 3",
   "language": "python",
   "name": "python3"
  },
  "language_info": {
   "codemirror_mode": {
    "name": "ipython",
    "version": 3
   },
   "file_extension": ".py",
   "mimetype": "text/x-python",
   "name": "python",
   "nbconvert_exporter": "python",
   "pygments_lexer": "ipython3",
   "version": "3.11.0"
  }
 },
 "nbformat": 4,
 "nbformat_minor": 2
}
