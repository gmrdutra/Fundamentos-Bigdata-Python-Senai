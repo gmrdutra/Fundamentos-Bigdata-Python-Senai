{
 "cells": [
  {
   "cell_type": "markdown",
   "metadata": {},
   "source": [
    "### Exercício 01 - Crie uma lista com nomes de 4 times de futebol."
   ]
  },
  {
   "cell_type": "code",
   "execution_count": 7,
   "metadata": {},
   "outputs": [
    {
     "data": {
      "text/plain": [
       "'Santos'"
      ]
     },
     "execution_count": 7,
     "metadata": {},
     "output_type": "execute_result"
    }
   ],
   "source": [
    "time = [\"Palmeiras\", \"São Paulo\", \"Santos\", \"Agua Santa\"]\n",
    "\n",
    "time[2]"
   ]
  },
  {
   "cell_type": "markdown",
   "metadata": {},
   "source": [
    "### Crie uma lista com duas listas de 3 times de futebol, cada uma de uma divisão diferente."
   ]
  },
  {
   "cell_type": "code",
   "execution_count": 11,
   "metadata": {},
   "outputs": [
    {
     "name": "stdout",
     "output_type": "stream",
     "text": [
      "[['São Caetano', 'Palmeiras', 'Coritiba', 'Sport'], ['Corinthians', 'Atletico MG', 'Santos', 'São Paulo']]\n"
     ]
    },
    {
     "data": {
      "text/plain": [
       "'Santos'"
      ]
     },
     "execution_count": 11,
     "metadata": {},
     "output_type": "execute_result"
    }
   ],
   "source": [
    "times_A = [\"São Caetano\",\"Palmeiras\",\"Coritiba\",\"Sport\"]\n",
    "times_D = [\"Corinthians\",\"Atletico MG\",\"Santos\",\"São Paulo\"]\n",
    "\n",
    "listas_times = [times_A,times_D]\n",
    "\n",
    "print(listas_times)\n",
    "\n",
    "listas_times[1][2]"
   ]
  },
  {
   "cell_type": "markdown",
   "metadata": {},
   "source": [
    "### Exercício 02 - Crie uma lista com 3 diferentes moedas. Acrescente mais 2 outras moedas à essa mesma lista."
   ]
  },
  {
   "cell_type": "code",
   "execution_count": 4,
   "metadata": {},
   "outputs": [
    {
     "data": {
      "text/plain": [
       "['Real', 'Peso', 'Dolar', 'Cruzado', 'Libra']"
      ]
     },
     "execution_count": 4,
     "metadata": {},
     "output_type": "execute_result"
    }
   ],
   "source": [
    "moedas = [\"Real\",\"Peso\",\"Dolar\"]\n",
    "\n",
    "moedas.append (\"Cruzado\")\n",
    "moedas.append (\"Libra\")\n",
    "\n",
    "moedas"
   ]
  },
  {
   "cell_type": "code",
   "execution_count": 28,
   "metadata": {},
   "outputs": [
    {
     "data": {
      "text/plain": [
       "['Real', 'Cruzeiro', 'Cruzeiro', 'Peso', 'Dolar', 'Cruzado', 'Libra']"
      ]
     },
     "execution_count": 28,
     "metadata": {},
     "output_type": "execute_result"
    }
   ],
   "source": [
    "# Adicionar um elemento a posição 1 da lista\n",
    "\n",
    "moedas.insert(1,\"Cruzeiro\")\n",
    "\n",
    "moedas"
   ]
  },
  {
   "cell_type": "code",
   "execution_count": 5,
   "metadata": {},
   "outputs": [
    {
     "ename": "ValueError",
     "evalue": "list.remove(x): x not in list",
     "output_type": "error",
     "traceback": [
      "\u001b[1;31m---------------------------------------------------------------------------\u001b[0m",
      "\u001b[1;31mValueError\u001b[0m                                Traceback (most recent call last)",
      "\u001b[1;32mc:\\Users\\FIC\\Documents\\gustavo-muniz-python\\Aula 04 - Listas, Tuplas e Dicioários - Exercicios.ipynb Cell 8\u001b[0m line \u001b[0;36m3\n\u001b[0;32m      <a href='vscode-notebook-cell:/c%3A/Users/FIC/Documents/gustavo-muniz-python/Aula%2004%20-%20Listas%2C%20Tuplas%20e%20Dicio%C3%A1rios%20-%20Exercicios.ipynb#X10sZmlsZQ%3D%3D?line=0'>1</a>\u001b[0m \u001b[39m# Excluir um elemento \u001b[39;00m\n\u001b[1;32m----> <a href='vscode-notebook-cell:/c%3A/Users/FIC/Documents/gustavo-muniz-python/Aula%2004%20-%20Listas%2C%20Tuplas%20e%20Dicio%C3%A1rios%20-%20Exercicios.ipynb#X10sZmlsZQ%3D%3D?line=2'>3</a>\u001b[0m moedas\u001b[39m.\u001b[39;49mremove(\u001b[39m\"\u001b[39;49m\u001b[39mCruzeiro\u001b[39;49m\u001b[39m\"\u001b[39;49m)\n\u001b[0;32m      <a href='vscode-notebook-cell:/c%3A/Users/FIC/Documents/gustavo-muniz-python/Aula%2004%20-%20Listas%2C%20Tuplas%20e%20Dicio%C3%A1rios%20-%20Exercicios.ipynb#X10sZmlsZQ%3D%3D?line=3'>4</a>\u001b[0m moedas\n",
      "\u001b[1;31mValueError\u001b[0m: list.remove(x): x not in list"
     ]
    }
   ],
   "source": [
    "# Excluir um elemento \n",
    "\n",
    "moedas.remove(\"Cruzeiro\")\n",
    "moedas"
   ]
  },
  {
   "cell_type": "markdown",
   "metadata": {},
   "source": [
    "### Exercício 03 - Crie uma string com a lista do exercício anterior."
   ]
  },
  {
   "cell_type": "code",
   "execution_count": 9,
   "metadata": {},
   "outputs": [
    {
     "name": "stdout",
     "output_type": "stream",
     "text": [
      "Real;Peso;Dolar;Cruzado;Libra\n"
     ]
    }
   ],
   "source": [
    "separado = ';'.join(moedas)\n",
    "\n",
    "print(separado)"
   ]
  },
  {
   "cell_type": "markdown",
   "metadata": {},
   "source": [
    "### Exercício 04 - Agora utilize a string do exercício 6 para recriar uma lista."
   ]
  },
  {
   "cell_type": "code",
   "execution_count": 15,
   "metadata": {},
   "outputs": [
    {
     "name": "stdout",
     "output_type": "stream",
     "text": [
      "['Real', 'Peso', 'Dolar', 'Cruzado', 'Libra']\n"
     ]
    }
   ],
   "source": [
    "\n",
    "juntado = separado.split(';')\n",
    "\n",
    "print(juntado)"
   ]
  },
  {
   "cell_type": "markdown",
   "metadata": {},
   "source": [
    "### Exercício 05 - Crie um dicionário chamado cardápio em que as chaves são os dias da semana e os respectivos valores sejam os pratos do dia."
   ]
  },
  {
   "cell_type": "code",
   "execution_count": 19,
   "metadata": {},
   "outputs": [
    {
     "data": {
      "text/plain": [
       "10"
      ]
     },
     "execution_count": 19,
     "metadata": {},
     "output_type": "execute_result"
    }
   ],
   "source": [
    "cardapio = {'Segunda-Feira': ['Feijoada'],\n",
    "            'Terça-Feira' : ['Dobradinha'],\n",
    "            'Quarta-Feira' : ['Fricasse'],\n",
    "            'Quinta-Feira' : ['Frango'],\n",
    "            'Sexta-Feira' : ['X-Tudo']\n",
    "            }\n",
    "\n",
    "cardapio['Quarta-Feira'] = 10\n",
    "\n",
    "cardapio['Quarta-Feira']"
   ]
  },
  {
   "cell_type": "code",
   "execution_count": 23,
   "metadata": {},
   "outputs": [
    {
     "data": {
      "text/plain": [
       "{'hemacias': 4.71,\n",
       " 'hemoglobina': 14.1,\n",
       " 'hematocrito': 41.2,\n",
       " 'linfócitos': 38,\n",
       " 'monocitos': 10,\n",
       " 'resultado': 'saudável'}"
      ]
     },
     "execution_count": 23,
     "metadata": {},
     "output_type": "execute_result"
    }
   ],
   "source": [
    "Hemograma = {\n",
    "            'hemacias': 4.71,\n",
    "            'hemoglobina': 14.1,\n",
    "            'hematocrito': 41.2,\n",
    "            'linfócitos': 38,\n",
    "            'monocitos': 7,\n",
    "            'resultado': 'saudável'\n",
    "}\n",
    "\n",
    "Hemograma['monocitos'] = 10\n",
    "\n",
    "Hemograma"
   ]
  }
 ],
 "metadata": {
  "kernelspec": {
   "display_name": "Python 3",
   "language": "python",
   "name": "python3"
  },
  "language_info": {
   "codemirror_mode": {
    "name": "ipython",
    "version": 3
   },
   "file_extension": ".py",
   "mimetype": "text/x-python",
   "name": "python",
   "nbconvert_exporter": "python",
   "pygments_lexer": "ipython3",
   "version": "3.11.0"
  }
 },
 "nbformat": 4,
 "nbformat_minor": 2
}
