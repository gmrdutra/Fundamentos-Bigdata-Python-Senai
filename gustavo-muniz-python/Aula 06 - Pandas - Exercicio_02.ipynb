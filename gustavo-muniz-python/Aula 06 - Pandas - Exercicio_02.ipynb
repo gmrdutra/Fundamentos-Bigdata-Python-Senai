{
 "cells": [
  {
   "cell_type": "markdown",
   "metadata": {},
   "source": [
    "### Exercício 02 – Manipulando dados com Pandas\n",
    "        a) Crie um programa em pandas para ler o arquivo em Excel imobiliária.xlsx\n",
    "        b) e coloque em um dataframe.\n",
    "        c) Visualize o cabeçalho dos dados;\n",
    "        d) Visualize as últimas linhas;\n",
    "        e) Escreva um programa para renomear o cabeçalho da tabela com os\n",
    "        f) seguintes nomes:\n",
    "        g) 5. Quais são os tipos de dados que temos no dataframe?\n",
    "        h) 6. Há valores faltantes ou nulos?\n",
    "        i) 7. Calcule a soma, média, máximo, mínimo e contagem da coluna Preço.\n",
    "        j) 8. Crie um programa para criar um dataframe para mostrar as vendas por\n",
    "        k) região, e salvar um arquivo em Excel para cada região.\n",
    "            Centro\n",
    "            Noroeste\n",
    "            Norte\n",
    "            Sudeste\n",
    "            Oeste\n",
    "            Leste\n",
    "            Sudoeste\n",
    "            Sul\n",
    "            Nordeste\n",
    "        l) Gere um arquivo em Excel para representar as vendas efetuadas pela filial norte em 2010.\n",
    "        m) Gere um arquivo em Excel para representar as vendas efetuadas pela filial Sudeste em 2010. Sendo que no relatório deve conter apenas vendas de casas sem garagem.\n",
    "        n) Qual o valor máximo de comissão que a imobiliária numa venda?\n",
    "        o) Quantas casas de 2 ou 3 dormitórios foram vendidas pelo Ricardo antes de 2011."
   ]
  },
  {
   "cell_type": "code",
   "execution_count": 2,
   "metadata": {},
   "outputs": [
    {
     "data": {
      "text/html": [
       "<div>\n",
       "<style scoped>\n",
       "    .dataframe tbody tr th:only-of-type {\n",
       "        vertical-align: middle;\n",
       "    }\n",
       "\n",
       "    .dataframe tbody tr th {\n",
       "        vertical-align: top;\n",
       "    }\n",
       "\n",
       "    .dataframe thead th {\n",
       "        text-align: right;\n",
       "    }\n",
       "</style>\n",
       "<table border=\"1\" class=\"dataframe\">\n",
       "  <thead>\n",
       "    <tr style=\"text-align: right;\">\n",
       "      <th></th>\n",
       "      <th>Coluna 1</th>\n",
       "      <th>Coluna 2</th>\n",
       "      <th>Coluna 3</th>\n",
       "      <th>Coluna 4</th>\n",
       "      <th>Coluna 5</th>\n",
       "      <th>Coluna 6</th>\n",
       "      <th>Coluna 7</th>\n",
       "      <th>Coluna 8</th>\n",
       "      <th>Coluna 8.1</th>\n",
       "      <th>Coluna 10</th>\n",
       "    </tr>\n",
       "  </thead>\n",
       "  <tbody>\n",
       "    <tr>\n",
       "      <th>0</th>\n",
       "      <td>Centro</td>\n",
       "      <td>Simone</td>\n",
       "      <td>2005-10-08</td>\n",
       "      <td>Apartamento</td>\n",
       "      <td>102.5</td>\n",
       "      <td>2</td>\n",
       "      <td>2</td>\n",
       "      <td>Sim</td>\n",
       "      <td>235500</td>\n",
       "      <td>3532.5</td>\n",
       "    </tr>\n",
       "    <tr>\n",
       "      <th>1</th>\n",
       "      <td>Noroeste</td>\n",
       "      <td>Simone</td>\n",
       "      <td>2005-10-08</td>\n",
       "      <td>Apartamento</td>\n",
       "      <td>199.5</td>\n",
       "      <td>4</td>\n",
       "      <td>4</td>\n",
       "      <td>Não</td>\n",
       "      <td>377700</td>\n",
       "      <td>5665.5</td>\n",
       "    </tr>\n",
       "    <tr>\n",
       "      <th>2</th>\n",
       "      <td>Norte</td>\n",
       "      <td>Roberto</td>\n",
       "      <td>2005-10-12</td>\n",
       "      <td>Casa</td>\n",
       "      <td>145.5</td>\n",
       "      <td>2</td>\n",
       "      <td>2</td>\n",
       "      <td>Não</td>\n",
       "      <td>232500</td>\n",
       "      <td>3487.5</td>\n",
       "    </tr>\n",
       "    <tr>\n",
       "      <th>3</th>\n",
       "      <td>Sudeste</td>\n",
       "      <td>Simone</td>\n",
       "      <td>2005-10-14</td>\n",
       "      <td>Apartamento</td>\n",
       "      <td>153.5</td>\n",
       "      <td>3</td>\n",
       "      <td>2</td>\n",
       "      <td>Não</td>\n",
       "      <td>289100</td>\n",
       "      <td>4336.5</td>\n",
       "    </tr>\n",
       "    <tr>\n",
       "      <th>4</th>\n",
       "      <td>Noroeste</td>\n",
       "      <td>Cristina</td>\n",
       "      <td>2005-10-16</td>\n",
       "      <td>Apartamento</td>\n",
       "      <td>93.0</td>\n",
       "      <td>2</td>\n",
       "      <td>2</td>\n",
       "      <td>Sim</td>\n",
       "      <td>235400</td>\n",
       "      <td>3531.0</td>\n",
       "    </tr>\n",
       "  </tbody>\n",
       "</table>\n",
       "</div>"
      ],
      "text/plain": [
       "   Coluna 1  Coluna 2   Coluna 3     Coluna 4  Coluna 5  Coluna 6  Coluna 7  \\\n",
       "0    Centro    Simone 2005-10-08  Apartamento     102.5         2         2   \n",
       "1  Noroeste    Simone 2005-10-08  Apartamento     199.5         4         4   \n",
       "2     Norte   Roberto 2005-10-12         Casa     145.5         2         2   \n",
       "3   Sudeste    Simone 2005-10-14  Apartamento     153.5         3         2   \n",
       "4  Noroeste  Cristina 2005-10-16  Apartamento      93.0         2         2   \n",
       "\n",
       "  Coluna 8  Coluna 8.1  Coluna 10  \n",
       "0      Sim      235500     3532.5  \n",
       "1      Não      377700     5665.5  \n",
       "2      Não      232500     3487.5  \n",
       "3      Não      289100     4336.5  \n",
       "4      Sim      235400     3531.0  "
      ]
     },
     "execution_count": 2,
     "metadata": {},
     "output_type": "execute_result"
    }
   ],
   "source": [
    "import pandas as pd\n",
    "\n",
    "caminho = (\"C:\\\\Users\\\\FIC\\\\Documents\\\\gustavo-muniz-python\\\\Arquivos\\\\Imobiliária.xlsx\")\n",
    "\n",
    "df = pd.read_excel(caminho)\n",
    "\n",
    "df.head()"
   ]
  },
  {
   "cell_type": "code",
   "execution_count": 3,
   "metadata": {},
   "outputs": [
    {
     "data": {
      "text/html": [
       "<div>\n",
       "<style scoped>\n",
       "    .dataframe tbody tr th:only-of-type {\n",
       "        vertical-align: middle;\n",
       "    }\n",
       "\n",
       "    .dataframe tbody tr th {\n",
       "        vertical-align: top;\n",
       "    }\n",
       "\n",
       "    .dataframe thead th {\n",
       "        text-align: right;\n",
       "    }\n",
       "</style>\n",
       "<table border=\"1\" class=\"dataframe\">\n",
       "  <thead>\n",
       "    <tr style=\"text-align: right;\">\n",
       "      <th></th>\n",
       "      <th>Coluna 1</th>\n",
       "      <th>Coluna 2</th>\n",
       "      <th>Coluna 3</th>\n",
       "      <th>Coluna 4</th>\n",
       "      <th>Coluna 5</th>\n",
       "      <th>Coluna 6</th>\n",
       "      <th>Coluna 7</th>\n",
       "      <th>Coluna 8</th>\n",
       "      <th>Coluna 8.1</th>\n",
       "      <th>Coluna 10</th>\n",
       "    </tr>\n",
       "  </thead>\n",
       "  <tbody>\n",
       "    <tr>\n",
       "      <th>1112</th>\n",
       "      <td>Sudeste</td>\n",
       "      <td>Cristina</td>\n",
       "      <td>2011-03-19</td>\n",
       "      <td>Apartamento</td>\n",
       "      <td>87.5</td>\n",
       "      <td>2</td>\n",
       "      <td>0</td>\n",
       "      <td>Não</td>\n",
       "      <td>221500</td>\n",
       "      <td>3322.5</td>\n",
       "    </tr>\n",
       "    <tr>\n",
       "      <th>1113</th>\n",
       "      <td>Sudeste</td>\n",
       "      <td>Simone</td>\n",
       "      <td>2011-03-20</td>\n",
       "      <td>Apartamento</td>\n",
       "      <td>74.5</td>\n",
       "      <td>2</td>\n",
       "      <td>2</td>\n",
       "      <td>Não</td>\n",
       "      <td>224400</td>\n",
       "      <td>3366.0</td>\n",
       "    </tr>\n",
       "    <tr>\n",
       "      <th>1114</th>\n",
       "      <td>Norte</td>\n",
       "      <td>João Carlos</td>\n",
       "      <td>2011-03-21</td>\n",
       "      <td>Apartamento</td>\n",
       "      <td>192.0</td>\n",
       "      <td>4</td>\n",
       "      <td>4</td>\n",
       "      <td>Não</td>\n",
       "      <td>361000</td>\n",
       "      <td>5415.0</td>\n",
       "    </tr>\n",
       "    <tr>\n",
       "      <th>1115</th>\n",
       "      <td>Leste</td>\n",
       "      <td>Simone</td>\n",
       "      <td>2011-03-27</td>\n",
       "      <td>Apartamento</td>\n",
       "      <td>42.0</td>\n",
       "      <td>1</td>\n",
       "      <td>1</td>\n",
       "      <td>Sim</td>\n",
       "      <td>167900</td>\n",
       "      <td>2518.5</td>\n",
       "    </tr>\n",
       "    <tr>\n",
       "      <th>1116</th>\n",
       "      <td>Oeste</td>\n",
       "      <td>Simone</td>\n",
       "      <td>2011-03-28</td>\n",
       "      <td>Apartamento</td>\n",
       "      <td>100.5</td>\n",
       "      <td>2</td>\n",
       "      <td>2</td>\n",
       "      <td>Sim</td>\n",
       "      <td>227600</td>\n",
       "      <td>3414.0</td>\n",
       "    </tr>\n",
       "  </tbody>\n",
       "</table>\n",
       "</div>"
      ],
      "text/plain": [
       "     Coluna 1     Coluna 2   Coluna 3     Coluna 4  Coluna 5  Coluna 6  \\\n",
       "1112  Sudeste     Cristina 2011-03-19  Apartamento      87.5         2   \n",
       "1113  Sudeste       Simone 2011-03-20  Apartamento      74.5         2   \n",
       "1114    Norte  João Carlos 2011-03-21  Apartamento     192.0         4   \n",
       "1115    Leste       Simone 2011-03-27  Apartamento      42.0         1   \n",
       "1116    Oeste       Simone 2011-03-28  Apartamento     100.5         2   \n",
       "\n",
       "      Coluna 7 Coluna 8  Coluna 8.1  Coluna 10  \n",
       "1112         0      Não      221500     3322.5  \n",
       "1113         2      Não      224400     3366.0  \n",
       "1114         4      Não      361000     5415.0  \n",
       "1115         1      Sim      167900     2518.5  \n",
       "1116         2      Sim      227600     3414.0  "
      ]
     },
     "execution_count": 3,
     "metadata": {},
     "output_type": "execute_result"
    }
   ],
   "source": [
    "df.tail()"
   ]
  },
  {
   "cell_type": "code",
   "execution_count": 9,
   "metadata": {},
   "outputs": [
    {
     "data": {
      "text/html": [
       "<div>\n",
       "<style scoped>\n",
       "    .dataframe tbody tr th:only-of-type {\n",
       "        vertical-align: middle;\n",
       "    }\n",
       "\n",
       "    .dataframe tbody tr th {\n",
       "        vertical-align: top;\n",
       "    }\n",
       "\n",
       "    .dataframe thead th {\n",
       "        text-align: right;\n",
       "    }\n",
       "</style>\n",
       "<table border=\"1\" class=\"dataframe\">\n",
       "  <thead>\n",
       "    <tr style=\"text-align: right;\">\n",
       "      <th></th>\n",
       "      <th>Filial</th>\n",
       "      <th>Vendedor</th>\n",
       "      <th>Data</th>\n",
       "      <th>Tipo</th>\n",
       "      <th>Area (m2)</th>\n",
       "      <th>Dorms.</th>\n",
       "      <th>Garag.</th>\n",
       "      <th>Piscina</th>\n",
       "      <th>Preço</th>\n",
       "      <th>Comissão</th>\n",
       "    </tr>\n",
       "  </thead>\n",
       "  <tbody>\n",
       "    <tr>\n",
       "      <th>0</th>\n",
       "      <td>Centro</td>\n",
       "      <td>Simone</td>\n",
       "      <td>2005-10-08</td>\n",
       "      <td>Apartamento</td>\n",
       "      <td>102.5</td>\n",
       "      <td>2</td>\n",
       "      <td>2</td>\n",
       "      <td>Sim</td>\n",
       "      <td>235500</td>\n",
       "      <td>3532.5</td>\n",
       "    </tr>\n",
       "    <tr>\n",
       "      <th>1</th>\n",
       "      <td>Noroeste</td>\n",
       "      <td>Simone</td>\n",
       "      <td>2005-10-08</td>\n",
       "      <td>Apartamento</td>\n",
       "      <td>199.5</td>\n",
       "      <td>4</td>\n",
       "      <td>4</td>\n",
       "      <td>Não</td>\n",
       "      <td>377700</td>\n",
       "      <td>5665.5</td>\n",
       "    </tr>\n",
       "    <tr>\n",
       "      <th>2</th>\n",
       "      <td>Norte</td>\n",
       "      <td>Roberto</td>\n",
       "      <td>2005-10-12</td>\n",
       "      <td>Casa</td>\n",
       "      <td>145.5</td>\n",
       "      <td>2</td>\n",
       "      <td>2</td>\n",
       "      <td>Não</td>\n",
       "      <td>232500</td>\n",
       "      <td>3487.5</td>\n",
       "    </tr>\n",
       "    <tr>\n",
       "      <th>3</th>\n",
       "      <td>Sudeste</td>\n",
       "      <td>Simone</td>\n",
       "      <td>2005-10-14</td>\n",
       "      <td>Apartamento</td>\n",
       "      <td>153.5</td>\n",
       "      <td>3</td>\n",
       "      <td>2</td>\n",
       "      <td>Não</td>\n",
       "      <td>289100</td>\n",
       "      <td>4336.5</td>\n",
       "    </tr>\n",
       "    <tr>\n",
       "      <th>4</th>\n",
       "      <td>Noroeste</td>\n",
       "      <td>Cristina</td>\n",
       "      <td>2005-10-16</td>\n",
       "      <td>Apartamento</td>\n",
       "      <td>93.0</td>\n",
       "      <td>2</td>\n",
       "      <td>2</td>\n",
       "      <td>Sim</td>\n",
       "      <td>235400</td>\n",
       "      <td>3531.0</td>\n",
       "    </tr>\n",
       "  </tbody>\n",
       "</table>\n",
       "</div>"
      ],
      "text/plain": [
       "     Filial  Vendedor       Data         Tipo  Area (m2)  Dorms.  Garag.  \\\n",
       "0    Centro    Simone 2005-10-08  Apartamento      102.5       2       2   \n",
       "1  Noroeste    Simone 2005-10-08  Apartamento      199.5       4       4   \n",
       "2     Norte   Roberto 2005-10-12         Casa      145.5       2       2   \n",
       "3   Sudeste    Simone 2005-10-14  Apartamento      153.5       3       2   \n",
       "4  Noroeste  Cristina 2005-10-16  Apartamento       93.0       2       2   \n",
       "\n",
       "  Piscina   Preço  Comissão  \n",
       "0     Sim  235500    3532.5  \n",
       "1     Não  377700    5665.5  \n",
       "2     Não  232500    3487.5  \n",
       "3     Não  289100    4336.5  \n",
       "4     Sim  235400    3531.0  "
      ]
     },
     "execution_count": 9,
     "metadata": {},
     "output_type": "execute_result"
    }
   ],
   "source": [
    "df = df.rename(columns={\n",
    "    'Coluna 1': 'Filial',\n",
    "    'Coluna 2': 'Vendedor',\n",
    "    'Coluna 3': 'Data',\n",
    "    'Coluna 4': 'Tipo',\n",
    "    'Coluna 5': 'Area (m2)',\n",
    "    'Coluna 6': 'Dorms.',\n",
    "    'Coluna 7': 'Garag.',\n",
    "    'Coluna 8': 'Piscina',\n",
    "    'Coluna 8.1': 'Preço',\n",
    "    'Coluna 10': 'Comissão'\n",
    "\n",
    "})\n",
    "\n",
    "df.head()"
   ]
  },
  {
   "cell_type": "code",
   "execution_count": 7,
   "metadata": {},
   "outputs": [
    {
     "name": "stdout",
     "output_type": "stream",
     "text": [
      "<class 'pandas.core.frame.DataFrame'>\n",
      "RangeIndex: 1117 entries, 0 to 1116\n",
      "Data columns (total 10 columns):\n",
      " #   Column      Non-Null Count  Dtype         \n",
      "---  ------      --------------  -----         \n",
      " 0   Filial      1117 non-null   object        \n",
      " 1   Vendedor    1117 non-null   object        \n",
      " 2   Data        1117 non-null   datetime64[ns]\n",
      " 3   Tipo        1117 non-null   object        \n",
      " 4   Area (m2)   1117 non-null   float64       \n",
      " 5   Dorms.      1117 non-null   int64         \n",
      " 6   Garag.      1117 non-null   int64         \n",
      " 7   Piscina     1117 non-null   object        \n",
      " 8   Coluna 8.1  1117 non-null   int64         \n",
      " 9   Comissão    1117 non-null   float64       \n",
      "dtypes: datetime64[ns](1), float64(2), int64(3), object(4)\n",
      "memory usage: 87.4+ KB\n"
     ]
    }
   ],
   "source": [
    "df.info()"
   ]
  },
  {
   "cell_type": "code",
   "execution_count": 8,
   "metadata": {},
   "outputs": [
    {
     "data": {
      "text/html": [
       "<div>\n",
       "<style scoped>\n",
       "    .dataframe tbody tr th:only-of-type {\n",
       "        vertical-align: middle;\n",
       "    }\n",
       "\n",
       "    .dataframe tbody tr th {\n",
       "        vertical-align: top;\n",
       "    }\n",
       "\n",
       "    .dataframe thead th {\n",
       "        text-align: right;\n",
       "    }\n",
       "</style>\n",
       "<table border=\"1\" class=\"dataframe\">\n",
       "  <thead>\n",
       "    <tr style=\"text-align: right;\">\n",
       "      <th></th>\n",
       "      <th>Data</th>\n",
       "      <th>Area (m2)</th>\n",
       "      <th>Dorms.</th>\n",
       "      <th>Garag.</th>\n",
       "      <th>Coluna 8.1</th>\n",
       "      <th>Comissão</th>\n",
       "    </tr>\n",
       "  </thead>\n",
       "  <tbody>\n",
       "    <tr>\n",
       "      <th>count</th>\n",
       "      <td>1117</td>\n",
       "      <td>1117.000000</td>\n",
       "      <td>1117.000000</td>\n",
       "      <td>1117.000000</td>\n",
       "      <td>1117.000000</td>\n",
       "      <td>1117.000000</td>\n",
       "    </tr>\n",
       "    <tr>\n",
       "      <th>mean</th>\n",
       "      <td>2008-06-24 03:30:08.057296384</td>\n",
       "      <td>125.965085</td>\n",
       "      <td>2.523724</td>\n",
       "      <td>1.646374</td>\n",
       "      <td>264131.602507</td>\n",
       "      <td>3961.974038</td>\n",
       "    </tr>\n",
       "    <tr>\n",
       "      <th>min</th>\n",
       "      <td>2005-10-08 00:00:00</td>\n",
       "      <td>25.000000</td>\n",
       "      <td>1.000000</td>\n",
       "      <td>0.000000</td>\n",
       "      <td>145100.000000</td>\n",
       "      <td>2176.500000</td>\n",
       "    </tr>\n",
       "    <tr>\n",
       "      <th>25%</th>\n",
       "      <td>2007-01-29 00:00:00</td>\n",
       "      <td>82.000000</td>\n",
       "      <td>2.000000</td>\n",
       "      <td>1.000000</td>\n",
       "      <td>213500.000000</td>\n",
       "      <td>3202.500000</td>\n",
       "    </tr>\n",
       "    <tr>\n",
       "      <th>50%</th>\n",
       "      <td>2008-06-08 00:00:00</td>\n",
       "      <td>127.000000</td>\n",
       "      <td>3.000000</td>\n",
       "      <td>2.000000</td>\n",
       "      <td>284300.000000</td>\n",
       "      <td>4264.500000</td>\n",
       "    </tr>\n",
       "    <tr>\n",
       "      <th>75%</th>\n",
       "      <td>2009-11-30 00:00:00</td>\n",
       "      <td>169.500000</td>\n",
       "      <td>3.000000</td>\n",
       "      <td>3.000000</td>\n",
       "      <td>314700.000000</td>\n",
       "      <td>4720.500000</td>\n",
       "    </tr>\n",
       "    <tr>\n",
       "      <th>max</th>\n",
       "      <td>2011-03-28 00:00:00</td>\n",
       "      <td>245.000000</td>\n",
       "      <td>4.000000</td>\n",
       "      <td>4.000000</td>\n",
       "      <td>384300.000000</td>\n",
       "      <td>5764.500000</td>\n",
       "    </tr>\n",
       "    <tr>\n",
       "      <th>std</th>\n",
       "      <td>NaN</td>\n",
       "      <td>53.290147</td>\n",
       "      <td>1.106603</td>\n",
       "      <td>1.233972</td>\n",
       "      <td>77249.578385</td>\n",
       "      <td>1158.743676</td>\n",
       "    </tr>\n",
       "  </tbody>\n",
       "</table>\n",
       "</div>"
      ],
      "text/plain": [
       "                                Data    Area (m2)       Dorms.       Garag.  \\\n",
       "count                           1117  1117.000000  1117.000000  1117.000000   \n",
       "mean   2008-06-24 03:30:08.057296384   125.965085     2.523724     1.646374   \n",
       "min              2005-10-08 00:00:00    25.000000     1.000000     0.000000   \n",
       "25%              2007-01-29 00:00:00    82.000000     2.000000     1.000000   \n",
       "50%              2008-06-08 00:00:00   127.000000     3.000000     2.000000   \n",
       "75%              2009-11-30 00:00:00   169.500000     3.000000     3.000000   \n",
       "max              2011-03-28 00:00:00   245.000000     4.000000     4.000000   \n",
       "std                              NaN    53.290147     1.106603     1.233972   \n",
       "\n",
       "          Coluna 8.1     Comissão  \n",
       "count    1117.000000  1117.000000  \n",
       "mean   264131.602507  3961.974038  \n",
       "min    145100.000000  2176.500000  \n",
       "25%    213500.000000  3202.500000  \n",
       "50%    284300.000000  4264.500000  \n",
       "75%    314700.000000  4720.500000  \n",
       "max    384300.000000  5764.500000  \n",
       "std     77249.578385  1158.743676  "
      ]
     },
     "execution_count": 8,
     "metadata": {},
     "output_type": "execute_result"
    }
   ],
   "source": [
    "df.describe()"
   ]
  },
  {
   "cell_type": "markdown",
   "metadata": {},
   "source": [
    "### Funções do PANDAS"
   ]
  },
  {
   "cell_type": "code",
   "execution_count": 20,
   "metadata": {},
   "outputs": [
    {
     "data": {
      "text/plain": [
       "295035000"
      ]
     },
     "execution_count": 20,
     "metadata": {},
     "output_type": "execute_result"
    }
   ],
   "source": [
    "# df['Preço'].sum()\n",
    "\n",
    "# df['Preço'].mean()\n",
    "\n",
    "# df['Preço'].max()\n",
    "\n",
    "# df['Preço'].min()\n",
    "\n",
    "# df['Preço'].count()\n",
    "\n",
    "# df['Preço'].std()\n",
    "\n",
    "df['Preço'].sum()\n"
   ]
  },
  {
   "cell_type": "code",
   "execution_count": 15,
   "metadata": {},
   "outputs": [
    {
     "data": {
      "text/plain": [
       "264131.6025067144"
      ]
     },
     "execution_count": 15,
     "metadata": {},
     "output_type": "execute_result"
    }
   ],
   "source": [
    "df['Preço'].mean()\n"
   ]
  },
  {
   "cell_type": "code",
   "execution_count": 16,
   "metadata": {},
   "outputs": [
    {
     "data": {
      "text/plain": [
       "384300"
      ]
     },
     "execution_count": 16,
     "metadata": {},
     "output_type": "execute_result"
    }
   ],
   "source": [
    "df['Preço'].max()\n"
   ]
  },
  {
   "cell_type": "code",
   "execution_count": 17,
   "metadata": {},
   "outputs": [
    {
     "data": {
      "text/plain": [
       "145100"
      ]
     },
     "execution_count": 17,
     "metadata": {},
     "output_type": "execute_result"
    }
   ],
   "source": [
    "df['Preço'].min()\n"
   ]
  },
  {
   "cell_type": "code",
   "execution_count": 18,
   "metadata": {},
   "outputs": [
    {
     "data": {
      "text/plain": [
       "1117"
      ]
     },
     "execution_count": 18,
     "metadata": {},
     "output_type": "execute_result"
    }
   ],
   "source": [
    "df['Preço'].count()\n"
   ]
  },
  {
   "cell_type": "code",
   "execution_count": 28,
   "metadata": {},
   "outputs": [
    {
     "data": {
      "text/plain": [
       "77249.57838462107"
      ]
     },
     "execution_count": 28,
     "metadata": {},
     "output_type": "execute_result"
    }
   ],
   "source": [
    "df['Preço'].std()"
   ]
  },
  {
   "cell_type": "markdown",
   "metadata": {},
   "source": [
    "### Filtrar dados em um DataFrame\n",
    "\n",
    "##### df['coluna'] === condição \n",
    "\n",
    "        != Diferente\n",
    "        == Igual\n",
    "        >= Maior ou Igual\n",
    "        <= Menor ou Igual\n",
    "        > Maior\n",
    "        < Menor "
   ]
  },
  {
   "cell_type": "markdown",
   "metadata": {},
   "source": [
    "### Gerar um arquivo de saída\n",
    "\n",
    "##### df.to_excel( caminho + nome do arquivo)\n",
    "\n",
    "        to CSV\n",
    "        to JSON\n",
    "        to SQL"
   ]
  },
  {
   "cell_type": "code",
   "execution_count": 34,
   "metadata": {},
   "outputs": [],
   "source": [
    "df_final = df[df['Filial'] == \"Centro\"]"
   ]
  },
  {
   "cell_type": "code",
   "execution_count": 35,
   "metadata": {},
   "outputs": [],
   "source": [
    "caminho = \"C:\\\\Users\\\\FIC\\\\Documents\\\\gustavo-muniz-python\\\\Relatório - Filiais\\\\\"\n",
    "\n",
    "arquivo = 'centro.xlsx'\n",
    "\n",
    "df_final.to_excel(caminho + arquivo)"
   ]
  }
 ],
 "metadata": {
  "kernelspec": {
   "display_name": "Python 3",
   "language": "python",
   "name": "python3"
  },
  "language_info": {
   "codemirror_mode": {
    "name": "ipython",
    "version": 3
   },
   "file_extension": ".py",
   "mimetype": "text/x-python",
   "name": "python",
   "nbconvert_exporter": "python",
   "pygments_lexer": "ipython3",
   "version": "3.11.0"
  }
 },
 "nbformat": 4,
 "nbformat_minor": 2
}
