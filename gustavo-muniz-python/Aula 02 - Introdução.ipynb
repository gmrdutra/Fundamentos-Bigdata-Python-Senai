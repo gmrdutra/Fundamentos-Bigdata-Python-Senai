{
 "cells": [
  {
   "cell_type": "markdown",
   "metadata": {},
   "source": [
    "### Palavras Reservadas"
   ]
  },
  {
   "cell_type": "markdown",
   "metadata": {},
   "source": [
    "### Estrutura de Decisão \n",
    "\n",
    "IF - Condição : \n",
    "        >>> (tab) Indentado    Ações caso a condição seja verdadeira      -------    1 possibilidade\n",
    "\n",
    "IF - Condição :\n",
    "        >>> Ações caso a condição seja verdadeira   ELSE   >>> ações caso a condição seja falsa      -------    2 possibilidades\n",
    "\n",
    "\n",
    "### Função para arredondar \n",
    "\n",
    "        round (valor,número de casas decimais)"
   ]
  },
  {
   "cell_type": "code",
   "execution_count": 2,
   "metadata": {},
   "outputs": [
    {
     "name": "stdout",
     "output_type": "stream",
     "text": [
      "['False', 'None', 'True', 'and', 'as', 'assert', 'async', 'await', 'break', 'class', 'continue', 'def', 'del', 'elif', 'else', 'except', 'finally', 'for', 'from', 'global', 'if', 'import', 'in', 'is', 'lambda', 'nonlocal', 'not', 'or', 'pass', 'raise', 'return', 'try', 'while', 'with', 'yield']\n"
     ]
    }
   ],
   "source": [
    "import keyword\n",
    "print(keyword.kwlist)\n"
   ]
  },
  {
   "cell_type": "markdown",
   "metadata": {},
   "source": [
    "### Exercício 02\n",
    "\n",
    "Crie um programa para receber dois valores e em seguida, exiba o valor valor da diferença entre eles "
   ]
  },
  {
   "cell_type": "code",
   "execution_count": 6,
   "metadata": {},
   "outputs": [
    {
     "name": "stdout",
     "output_type": "stream",
     "text": [
      "O resultado da subtração é -11\n"
     ]
    }
   ],
   "source": [
    "num1 = 25\n",
    "num2 = 36\n",
    "\n",
    "diferenca = num1 - num2\n",
    "\n",
    "# O comando print apresenta resultados no console\n",
    "\n",
    "print (f\"O resultado da subtração é {diferenca}\")"
   ]
  },
  {
   "cell_type": "markdown",
   "metadata": {},
   "source": [
    "### Exercício 03 \n",
    "\n",
    "Crie um programa para receber dois valores e em seguida, exiba o produto entre eles."
   ]
  },
  {
   "cell_type": "code",
   "execution_count": 12,
   "metadata": {},
   "outputs": [
    {
     "name": "stdout",
     "output_type": "stream",
     "text": [
      "<class 'float'>\n",
      "<class 'float'>\n",
      "O resultado da multiplicação é 50.0\n"
     ]
    }
   ],
   "source": [
    "# Inserindo dados de entrada com o comando INPUT\n",
    "num1 = input(\"Digite o primeiro valor:\")\n",
    "num2 = input(\"Digite o segundo valor:\")\n",
    "\n",
    "# Convertendo os valores em DECIMAIS\n",
    "num1 = float(num1)\n",
    "num2 = float(num2)\n",
    "\n",
    "# Verificando o tipo de dados\n",
    "print(type(num1))\n",
    "print(type(num2))\n",
    "\n",
    "produto = num1 * num2\n",
    "\n",
    "print (f\"O resultado da multiplicação é {produto}\")"
   ]
  },
  {
   "cell_type": "markdown",
   "metadata": {},
   "source": [
    "### Exercício 04 \n",
    "\n",
    "Crie um programa para receber dois valores e em seguida, exiba o quociente entre eles."
   ]
  },
  {
   "cell_type": "code",
   "execution_count": 8,
   "metadata": {},
   "outputs": [
    {
     "name": "stdout",
     "output_type": "stream",
     "text": [
      "O resultado da divisão é 5.0\n"
     ]
    }
   ],
   "source": [
    "num1 = input(\"Digite o primeiro valor:\")\n",
    "num1 = float(num1)\n",
    "num2 = input(\"Digite o segundo valor:\")\n",
    "num2 = float(num2)\n",
    "\n",
    "divide = num1 / num2\n",
    "\n",
    "print (f\"O resultado da divisão é {divide}\")"
   ]
  },
  {
   "cell_type": "markdown",
   "metadata": {},
   "source": [
    "### Exercício 05 \n",
    "\n",
    "Crie um programa para receber dois valores e em seguida, exiba o resto da divisão entre eles."
   ]
  },
  {
   "cell_type": "code",
   "execution_count": 9,
   "metadata": {},
   "outputs": [
    {
     "name": "stdout",
     "output_type": "stream",
     "text": [
      "O resultado da divisão é 1.0\n"
     ]
    }
   ],
   "source": [
    "num1 = input(\"Digite o primeiro valor:\")\n",
    "num1 = float(num1)\n",
    "num2 = input(\"Digite o segundo valor:\")\n",
    "num2 = float(num2)\n",
    "\n",
    "resto = num1 % num2\n",
    "\n",
    "print (f\"O resultado da divisão é {resto}\")"
   ]
  },
  {
   "cell_type": "markdown",
   "metadata": {},
   "source": [
    "### Exercício 16\n",
    "\n",
    "Faça um Programa que peça 2 números inteiros e um número real.\n",
    "\n",
    "Calcule e mostre:\n",
    "\n",
    "    a) o produto do dobro do primeiro com metade do segundo.\n",
    "    b) a soma do triplo do primeiro com o terceiro.\n",
    "    c) o terceiro elevado ao cubo."
   ]
  },
  {
   "cell_type": "code",
   "execution_count": 17,
   "metadata": {},
   "outputs": [
    {
     "name": "stdout",
     "output_type": "stream",
     "text": [
      "O resultado do exercicio 16.a onde o 1º numero inteiro é 10 e o 2º numero inteiro é 15 tem o resultado 150.0\n",
      "O resultado do exercicio 16.b onde o 1º numero inteiro é 10 e o numero real é 15 tem o resultado 31.71\n",
      "O resultado do exercicio 16.c onde o numero real é 15 tem o resultado 5.000210999999999\n"
     ]
    }
   ],
   "source": [
    "num1 = int(input(\"Digite o primeiro numero inteiro:\"))\n",
    "num2 = int(input(\"Digite o segundo numero inteiro:\"))\n",
    "num3 = float(input(\"Digite o segundo numero real:\"))\n",
    "\n",
    "produto = (num1*2)*(num2/2)\n",
    "soma = (num1*3)+(num3)\n",
    "cubo = num3**3\n",
    "\n",
    "print (f\"O resultado do exercicio 16.a onde o 1º numero inteiro é {num1} e o 2º numero inteiro é {num2} tem o resultado {produto}\")\n",
    "print (f\"O resultado do exercicio 16.b onde o 1º numero inteiro é {num1} e o numero real é {num2} tem o resultado {soma}\")\n",
    "print (f\"O resultado do exercicio 16.c onde o numero real é {num2} tem o resultado {cubo}\")\n"
   ]
  },
  {
   "cell_type": "markdown",
   "metadata": {},
   "source": [
    "### Exercício 17 \n",
    "\n",
    "João Papo-de-Pescador, homem de bem, comprou um microcomputador para controlar o rendimento diário de seu trabalho. Toda vez que ele traz um peso de peixes maior que o estabelecido pelo regulamento de pesca do estado de São Paulo (50 quilos) deve pagar uma multa de R$ 4,00 por quilo excedente. João precisa que você faça um programa que leia a variável peso (peso de peixes) e calcule o excesso.Gravar na variável excesso a quantidade de quilos além do limite e na variável multa o valor da multa que João deverá pagar. Imprima os dados do programa com as mensagens adequadas."
   ]
  },
  {
   "cell_type": "code",
   "execution_count": 21,
   "metadata": {},
   "outputs": [
    {
     "name": "stdout",
     "output_type": "stream",
     "text": [
      "João Papo de Pescador hoje o excesso de peixe pescado foi de 30.0 kg acima dos 50 Kg permitidos e sua multa será de R$ 120.0\n"
     ]
    }
   ],
   "source": [
    "peso = float(input(\"Olá João Papo de Pescador, insira o peso total\"))\n",
    "\n",
    "excesso = peso -50\n",
    "multa = excesso*4\n",
    "\n",
    "print (f\"João Papo de Pescador hoje o excesso de peixe pescado foi de {excesso} kg acima dos 50 Kg permitidos e sua multa será de R$ {multa}\")"
   ]
  },
  {
   "cell_type": "markdown",
   "metadata": {},
   "source": [
    "### Exercício 18 - Faça um Programa que pergunte quanto você ganha por hora e o número de horas trabalhadas no mês. Calcule e mostre o total do seu salário no referido mês, sabendo-se que são descontados 11% para o Imposto de Renda, 8% para o INSS e 5% para o sindicato, faça um programa que nos dê:\n",
    "    a) salário bruto.\n",
    "    b) quanto pagou ao INSS.\n",
    "    c) quanto pagou ao sindicato.\n",
    "    d) o salário líquido.\n",
    "    e) calcule os descontos e o salário líquido, conforme a tabela abaixo:"
   ]
  },
  {
   "cell_type": "code",
   "execution_count": 33,
   "metadata": {},
   "outputs": [
    {
     "name": "stdout",
     "output_type": "stream",
     "text": [
      "a. + Salário Bruto : R$ 500.0\n",
      "b. - IR (11%) : R$ 55.0\n",
      "c. - INSS (8%) : R$ 40.0\n",
      "d. - Sindicato (5%) : R$ 25.0\n",
      "e. = Salário Liquido : R$ 380.0\n"
     ]
    }
   ],
   "source": [
    "ganhoHora = float(input(\"Olá, insira o valor ganho por hora:\"))\n",
    "horaTrabalhada = int(input(\"Insira o numero de horas trabalhadas no mês\"))\n",
    "\n",
    "salarioBruto = ganhoHora * horaTrabalhada\n",
    "inss = salarioBruto*0.08\n",
    "sindicato = salarioBruto*0.05\n",
    "imposto = salarioBruto*0.11\n",
    "salarioLiquido = salarioBruto - inss - sindicato - imposto\n",
    "\n",
    "print (f\"a. + Salário Bruto : R$ {salarioBruto}\")\n",
    "print (f\"b. - IR (11%) : R$ {imposto}\")\n",
    "print (f\"c. - INSS (8%) : R$ {inss}\")\n",
    "print (f\"d. - Sindicato (5%) : R$ {sindicato}\")\n",
    "print (f\"e. = Salário Liquido : R$ {salarioLiquido}\")"
   ]
  },
  {
   "cell_type": "markdown",
   "metadata": {},
   "source": [
    "### Exercício 19 \n",
    "\n",
    "Faça um programa para uma loja de tintas. O programa deverá pedir o tamanho em metros quadrados da área a ser pintada. Considere que a cobertura da tinta é de 1 litro para cada 3 metros quadrados e que a tinta é vendida em latas de 18  litros, que custam R$ 80,00. Informe ao usuário a quantidades de latas de tinta a serem compradas e o preço total."
   ]
  },
  {
   "cell_type": "code",
   "execution_count": 42,
   "metadata": {},
   "outputs": [
    {
     "name": "stdout",
     "output_type": "stream",
     "text": [
      "A quantidade de latas de tintas a serem compradas será de 2 e o custo total R$ 160\n"
     ]
    }
   ],
   "source": [
    "areaPintada = float(input(\"Olá, insira a área em metros quadrados que será pintada:\"))\n",
    "\n",
    "import math\n",
    "\n",
    "latas =  math.ceil((areaPintada/3)/18)\n",
    "custo = math.ceil(80*latas)\n",
    "\n",
    "print (f\"A quantidade de latas de tintas a serem compradas será de {latas} e o custo total R$ {custo}\")"
   ]
  }
 ],
 "metadata": {
  "kernelspec": {
   "display_name": "Python 3",
   "language": "python",
   "name": "python3"
  },
  "language_info": {
   "codemirror_mode": {
    "name": "ipython",
    "version": 3
   },
   "file_extension": ".py",
   "mimetype": "text/x-python",
   "name": "python",
   "nbconvert_exporter": "python",
   "pygments_lexer": "ipython3",
   "version": "3.11.0"
  }
 },
 "nbformat": 4,
 "nbformat_minor": 2
}
