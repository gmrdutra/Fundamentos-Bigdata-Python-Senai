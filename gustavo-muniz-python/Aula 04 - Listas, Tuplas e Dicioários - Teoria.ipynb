{
 "cells": [
  {
   "cell_type": "markdown",
   "metadata": {},
   "source": [
    "### Listas ou Array \n",
    "\n",
    "Utiliza conchetes para criação.\n",
    "\n",
    "Podemos armazenar várias tipos de informações.\n",
    "\n",
    "É possivel modificar os elementos da estrutura.\n",
    "\n",
    "#### Identificar o tipo de dados \n",
    "    TYPE (lista)\n",
    "\n",
    "#### Contar a quantidade dos elementos da lista\n",
    "    LEN ()\n",
    "\n",
    "#### Conversão de uma lista em STRING, nós utilizamos o comando \n",
    "    JOIN ()"
   ]
  },
  {
   "cell_type": "code",
   "execution_count": 3,
   "metadata": {},
   "outputs": [
    {
     "name": "stdout",
     "output_type": "stream",
     "text": [
      "Ana\n",
      "8\n"
     ]
    }
   ],
   "source": [
    "alunos = [\"Ana\" , \"Amanda\" , \"Bruno\" , \"João\"]\n",
    "notas = [10, 9, 8 ,7]\n",
    "\n",
    "# Acessar os elementos de uma lista \n",
    "\n",
    "# Exibir o primeiro nome da lista alunos \n",
    "print (alunos[0])\n",
    "\n",
    "#Exibir a terceira nota da lista notas \n",
    "print(notas[2])\n"
   ]
  },
  {
   "cell_type": "code",
   "execution_count": 5,
   "metadata": {},
   "outputs": [
    {
     "data": {
      "text/plain": [
       "['Amanda', 'Bruno']"
      ]
     },
     "execution_count": 5,
     "metadata": {},
     "output_type": "execute_result"
    }
   ],
   "source": [
    "# Selecionar uma fatia dos dados ( Amanda a Bruno)\n",
    "# lista[posição_inicial : posição_final +1]\n",
    "\n",
    "alunos[1:3]"
   ]
  },
  {
   "cell_type": "code",
   "execution_count": 11,
   "metadata": {},
   "outputs": [
    {
     "data": {
      "text/plain": [
       "['Bruno', 'João']"
      ]
     },
     "execution_count": 11,
     "metadata": {},
     "output_type": "execute_result"
    }
   ],
   "source": [
    "# Selecionar apenas os nomes Bruno e João \n",
    "\n",
    "alunos[2:]"
   ]
  },
  {
   "cell_type": "code",
   "execution_count": 15,
   "metadata": {},
   "outputs": [
    {
     "name": "stdout",
     "output_type": "stream",
     "text": [
      "<class 'list'>\n",
      "4\n"
     ]
    }
   ],
   "source": [
    "# Identificando o tipo de informação \n",
    "\n",
    "print(type(notas))\n",
    "print(len(notas))"
   ]
  },
  {
   "cell_type": "code",
   "execution_count": 1,
   "metadata": {},
   "outputs": [
    {
     "name": "stdout",
     "output_type": "stream",
     "text": [
      "batata;óleo;margarina;café\n",
      "<class 'str'>\n"
     ]
    }
   ],
   "source": [
    "# Converter uma lista em STRING\n",
    "\n",
    "supermercado = ['batata', 'óleo', 'margarina','café']\n",
    "\n",
    "listaConvertida = ';'.join(supermercado)\n",
    "\n",
    "print(listaConvertida)\n",
    "print(type(listaConvertida))"
   ]
  },
  {
   "cell_type": "code",
   "execution_count": 6,
   "metadata": {},
   "outputs": [
    {
     "name": "stdout",
     "output_type": "stream",
     "text": [
      "['batata', 'óleo', 'margarina', 'café']\n",
      "<class 'list'>\n"
     ]
    }
   ],
   "source": [
    "# Converter STRING em lista \n",
    "\n",
    "lista = listaConvertida.split(';')\n",
    "\n",
    "print(lista)\n",
    "print(type(lista))"
   ]
  },
  {
   "cell_type": "markdown",
   "metadata": {},
   "source": [
    "### Tuplas\n",
    "\n",
    "#### É criado com parênteses ( )\n",
    "\n",
    "#### Separamos os elementos por virgula \n",
    "\n",
    "#### Pode conter múltiplos elementos \n",
    "\n",
    "#### Não podemos alterar sua estrutura após sua criação \n"
   ]
  },
  {
   "cell_type": "code",
   "execution_count": 7,
   "metadata": {},
   "outputs": [
    {
     "name": "stdout",
     "output_type": "stream",
     "text": [
      "<class 'tuple'>\n",
      "<class 'tuple'>\n"
     ]
    }
   ],
   "source": [
    "valores = (90,79,54,32,21)\n",
    "pontos = (100,94.05,86.08,62)\n",
    "\n",
    "print(type(valores))\n",
    "\n",
    "print(type(pontos))"
   ]
  },
  {
   "cell_type": "markdown",
   "metadata": {},
   "source": [
    "### Tuplas ( tuple ) - Outros Exemplos "
   ]
  },
  {
   "cell_type": "code",
   "execution_count": 10,
   "metadata": {},
   "outputs": [
    {
     "name": "stdout",
     "output_type": "stream",
     "text": [
      "[10, 2]\n",
      "Não é possivel modificar uma tupla\n"
     ]
    }
   ],
   "source": [
    "my_list = [1,2] # Criando uma lista \n",
    "\n",
    "my_tuple = (1,2) # Criando uma tupla\n",
    "\n",
    "# Alterando o elemento de posição 1 da lista \n",
    "# Listas permitem a sua alteração \n",
    "\n",
    "my_list[0] = 10\n",
    "\n",
    "print(my_list)\n",
    "\n",
    "# Alterando o elemento da posição 1 da tupla\n",
    "\n",
    "try: \n",
    "    my_tuple[1] = 3\n",
    "\n",
    "except TypeError:\n",
    "\n",
    "    print('Não é possivel modificar uma tupla')"
   ]
  },
  {
   "cell_type": "markdown",
   "metadata": {},
   "source": [
    "### Criando uma função com Tuplas"
   ]
  },
  {
   "cell_type": "code",
   "execution_count": 11,
   "metadata": {},
   "outputs": [],
   "source": [
    "def sum_and_product (x,y):\n",
    "    \n",
    "    return ( x + y),(x * y)\n",
    "    "
   ]
  },
  {
   "cell_type": "code",
   "execution_count": 12,
   "metadata": {},
   "outputs": [
    {
     "data": {
      "text/plain": [
       "(15, 50)"
      ]
     },
     "execution_count": 12,
     "metadata": {},
     "output_type": "execute_result"
    }
   ],
   "source": [
    "sum_and_product (10,5)"
   ]
  },
  {
   "cell_type": "markdown",
   "metadata": {},
   "source": [
    "### Dicionários \n",
    "\n",
    "#### Dicionários são estruturas chave: Valor que permite associar valores a um identificador\n",
    "\n",
    "\n",
    "#### É criado com chaves {   }\n",
    "\n",
    "\n",
    "#### Permite Alteração  \n",
    "\n",
    "\n",
    "#### \n",
    "        { 'ANA'   : 10 ,\n",
    "          'JORGE' : 5,\n",
    "          'MARIA' : 10 }"
   ]
  },
  {
   "cell_type": "code",
   "execution_count": 14,
   "metadata": {},
   "outputs": [
    {
     "name": "stdout",
     "output_type": "stream",
     "text": [
      "<class 'dict'>\n",
      "<class 'dict'>\n"
     ]
    }
   ],
   "source": [
    "altura = {   'Amanda':1.65,\n",
    "            'Ana':1.60,\n",
    "            'João':1.50\n",
    "}\n",
    "\n",
    "peso =  {   'Amanda': 60,\n",
    "            'Ana': 58,\n",
    "            'João': 100\n",
    "}\n",
    "\n",
    "print(type(altura))\n",
    "print(type(peso))"
   ]
  },
  {
   "cell_type": "code",
   "execution_count": 22,
   "metadata": {},
   "outputs": [
    {
     "name": "stdout",
     "output_type": "stream",
     "text": [
      "1.6\n",
      "58\n"
     ]
    }
   ],
   "source": [
    "# Acessar informações do dicionário \n",
    "print(altura['Ana'])\n",
    "print(peso['Ana'])"
   ]
  }
 ],
 "metadata": {
  "kernelspec": {
   "display_name": "Python 3",
   "language": "python",
   "name": "python3"
  },
  "language_info": {
   "codemirror_mode": {
    "name": "ipython",
    "version": 3
   },
   "file_extension": ".py",
   "mimetype": "text/x-python",
   "name": "python",
   "nbconvert_exporter": "python",
   "pygments_lexer": "ipython3",
   "version": "3.11.0"
  }
 },
 "nbformat": 4,
 "nbformat_minor": 2
}
